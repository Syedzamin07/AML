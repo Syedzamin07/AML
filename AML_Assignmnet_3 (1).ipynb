{
  "nbformat": 4,
  "nbformat_minor": 0,
  "metadata": {
    "colab": {
      "provenance": [],
      "collapsed_sections": [
        "hjgr8GarCQez"
      ]
    },
    "kernelspec": {
      "name": "python3",
      "display_name": "Python 3"
    },
    "language_info": {
      "name": "python"
    }
  },
  "cells": [
    {
      "cell_type": "markdown",
      "source": [
        "# **0. Importing Files**"
      ],
      "metadata": {
        "id": "hjgr8GarCQez"
      }
    },
    {
      "cell_type": "code",
      "execution_count": 9,
      "metadata": {
        "id": "7KP5k_roCF0O"
      },
      "outputs": [],
      "source": [
        "import pandas as pd\n",
        "import numpy as np\n",
        "import matplotlib.pyplot as plt\n",
        "import seaborn as sns\n",
        "from sklearn.model_selection import train_test_split, GridSearchCV\n",
        "from sklearn.ensemble import RandomForestRegressor, GradientBoostingRegressor\n",
        "from sklearn.feature_selection import RFE\n",
        "from sklearn.decomposition import PCA\n",
        "from sklearn.preprocessing import StandardScaler, PolynomialFeatures\n",
        "from sklearn.cluster import KMeans\n",
        "from sklearn.metrics import mean_squared_error, r2_score\n",
        "import shap\n",
        "from sklearn.inspection import PartialDependenceDisplay\n",
        "import warnings\n",
        "warnings.filterwarnings('ignore')"
      ]
    },
    {
      "cell_type": "markdown",
      "source": [
        "# **0.1 Data Loading**"
      ],
      "metadata": {
        "id": "3a6QErVLCZWz"
      }
    },
    {
      "cell_type": "code",
      "source": [
        "# Mount Google Drive to access files\n",
        "from google.colab import drive\n",
        "drive.mount('/content/drive')"
      ],
      "metadata": {
        "colab": {
          "base_uri": "https://localhost:8080/"
        },
        "id": "UBhom7kXCfE1",
        "outputId": "ee210a72-acf9-4513-830b-7bb3b5385764"
      },
      "execution_count": 27,
      "outputs": [
        {
          "output_type": "stream",
          "name": "stdout",
          "text": [
            "Drive already mounted at /content/drive; to attempt to forcibly remount, call drive.mount(\"/content/drive\", force_remount=True).\n"
          ]
        }
      ]
    },
    {
      "cell_type": "code",
      "source": [
        "# Load the dataset using pandas\n",
        "# The dataset contains car advertisement details, including mileage, price, and vehicle specifications.\n",
        "import pandas as pd\n",
        "data = pd.read_csv('/content/drive/MyDrive/MMU/Assignments/0 Sem 1/Data Science/Files/adverts.csv')"
      ],
      "metadata": {
        "id": "XQGybSaWCidH"
      },
      "execution_count": 28,
      "outputs": []
    },
    {
      "cell_type": "markdown",
      "source": [
        "# **1. Data Description and Pre-Processing**"
      ],
      "metadata": {
        "id": "VsoaSFDaCxEC"
      }
    },
    {
      "cell_type": "markdown",
      "source": [
        "## **1.1 Summary**"
      ],
      "metadata": {
        "id": "TKZxfIDcIPSu"
      }
    },
    {
      "cell_type": "markdown",
      "source": [
        "**A. Summarize the Dataset**"
      ],
      "metadata": {
        "id": "QA2JS5R1I1XK"
      }
    },
    {
      "cell_type": "code",
      "source": [
        "# Basic information about the dataset\n",
        "print(\"Dataset Info:\")\n",
        "data.info()\n",
        "\n",
        "# Summary statistics for numerical columns\n",
        "print(\"\\nSummary Statistics:\")\n",
        "print(data.describe())\n",
        "\n",
        "# Checking missing values\n",
        "print(\"\\nMissing Values:\")\n",
        "print(data.isnull().sum())"
      ],
      "metadata": {
        "colab": {
          "base_uri": "https://localhost:8080/"
        },
        "id": "JAp8VGAdIjYb",
        "outputId": "fce0f1b3-d10c-4676-d092-1c740b4a0fa0"
      },
      "execution_count": 29,
      "outputs": [
        {
          "output_type": "stream",
          "name": "stdout",
          "text": [
            "Dataset Info:\n",
            "<class 'pandas.core.frame.DataFrame'>\n",
            "RangeIndex: 402005 entries, 0 to 402004\n",
            "Data columns (total 12 columns):\n",
            " #   Column                 Non-Null Count   Dtype  \n",
            "---  ------                 --------------   -----  \n",
            " 0   public_reference       402005 non-null  int64  \n",
            " 1   mileage                401878 non-null  float64\n",
            " 2   reg_code               370148 non-null  object \n",
            " 3   standard_colour        396627 non-null  object \n",
            " 4   standard_make          402005 non-null  object \n",
            " 5   standard_model         402005 non-null  object \n",
            " 6   vehicle_condition      402005 non-null  object \n",
            " 7   year_of_registration   368694 non-null  float64\n",
            " 8   price                  402005 non-null  int64  \n",
            " 9   body_type              401168 non-null  object \n",
            " 10  crossover_car_and_van  402005 non-null  bool   \n",
            " 11  fuel_type              401404 non-null  object \n",
            "dtypes: bool(1), float64(2), int64(2), object(7)\n",
            "memory usage: 34.1+ MB\n",
            "\n",
            "Summary Statistics:\n",
            "       public_reference        mileage  year_of_registration         price\n",
            "count      4.020050e+05  401878.000000         368694.000000  4.020050e+05\n",
            "mean       2.020071e+14   37743.595656           2015.006206  1.734197e+04\n",
            "std        1.691662e+10   34831.724018              7.962667  4.643746e+04\n",
            "min        2.013072e+14       0.000000            999.000000  1.200000e+02\n",
            "25%        2.020090e+14   10481.000000           2013.000000  7.495000e+03\n",
            "50%        2.020093e+14   28629.500000           2016.000000  1.260000e+04\n",
            "75%        2.020102e+14   56875.750000           2018.000000  2.000000e+04\n",
            "max        2.020110e+14  999999.000000           2020.000000  9.999999e+06\n",
            "\n",
            "Missing Values:\n",
            "public_reference             0\n",
            "mileage                    127\n",
            "reg_code                 31857\n",
            "standard_colour           5378\n",
            "standard_make                0\n",
            "standard_model               0\n",
            "vehicle_condition            0\n",
            "year_of_registration     33311\n",
            "price                        0\n",
            "body_type                  837\n",
            "crossover_car_and_van        0\n",
            "fuel_type                  601\n",
            "dtype: int64\n"
          ]
        }
      ]
    },
    {
      "cell_type": "markdown",
      "source": [
        "**B. Correlation Heatmap**"
      ],
      "metadata": {
        "id": "JmjQrMLnIsEF"
      }
    },
    {
      "cell_type": "code",
      "source": [
        "# Exclude non-numerical columns to compute correlation\n",
        "numerical_data = data.select_dtypes(include=[np.number])\n",
        "\n",
        "# Correlation heatmap\n",
        "plt.figure(figsize=(10, 8))\n",
        "correlation = numerical_data.corr()\n",
        "sns.heatmap(correlation, annot=True, cmap='coolwarm', fmt='.2f')\n",
        "plt.title('Correlation Heatmap')\n",
        "plt.show()"
      ],
      "metadata": {
        "colab": {
          "base_uri": "https://localhost:8080/",
          "height": 699
        },
        "id": "qiTwOXheJEk2",
        "outputId": "dbb22ffa-9ba0-4f9b-acb3-c28d21f43e7f"
      },
      "execution_count": 30,
      "outputs": [
        {
          "output_type": "display_data",
          "data": {
            "text/plain": [
              "<Figure size 1000x800 with 2 Axes>"
            ],
            "image/png": "[encoded data removed]"
          },
          "metadata": {}
        }
      ]
    },
    {
      "cell_type": "markdown",
      "source": [
        "**C. Scatter-plot: Price vs Mileage**"
      ],
      "metadata": {
        "id": "4vlnUqKJIYnY"
      }
    },
    {
      "cell_type": "code",
      "source": [
        "# Scatter plot for mileage vs price\n",
        "plt.figure(figsize=(8, 6))\n",
        "sns.scatterplot(x=data['mileage'], y=data['price'], alpha=0.5)\n",
        "plt.title('Scatter Plot: Mileage vs. Price')\n",
        "plt.xlabel('Mileage')\n",
        "plt.ylabel('Price')\n",
        "plt.show()"
      ],
      "metadata": {
        "colab": {
          "base_uri": "https://localhost:8080/",
          "height": 564
        },
        "id": "gRNE6LpxJPnU",
        "outputId": "720ed4a1-c119-48a7-e696-a6b9f935e8f1"
      },
      "execution_count": 31,
      "outputs": [
        {
          "output_type": "display_data",
          "data": {
            "text/plain": [
              "<Figure size 800x600 with 1 Axes>"
            ],
            "image/png": "[encoded data removed]"
          },
          "metadata": {}
        }
      ]
    },
    {
      "cell_type": "markdown",
      "source": [
        "**D. Visualize missing Values**"
      ],
      "metadata": {
        "id": "9NqxrdWNJ2KZ"
      }
    },
    {
      "cell_type": "code",
      "source": [
        "# Visualize missing values as a heatmap\n",
        "plt.figure(figsize=(10, 6))\n",
        "sns.heatmap(data.isnull(), cbar=False, cmap='viridis', yticklabels=False)\n",
        "plt.title(\"Missing Values Heatmap\")\n",
        "plt.show()"
      ],
      "metadata": {
        "colab": {
          "base_uri": "https://localhost:8080/",
          "height": 692
        },
        "id": "ZbIO-rZrJ7H0",
        "outputId": "fa0e8bd9-4dd3-4119-9dcd-6ee13bb2be88"
      },
      "execution_count": 32,
      "outputs": [
        {
          "output_type": "display_data",
          "data": {
            "text/plain": [
              "<Figure size 1000x600 with 1 Axes>"
            ],
            "image/png": "[encoded data removed]"
          },
          "metadata": {}
        }
      ]
    },
    {
      "cell_type": "markdown",
      "source": [
        "**E. Identify Outliers**"
      ],
      "metadata": {
        "id": "e_MoXgIuTIdm"
      }
    },
    {
      "cell_type": "code",
      "source": [
        "# Boxplot visualization for numerical columns\n",
        "numerical_columns = data.select_dtypes(include=[np.number]).columns\n",
        "\n",
        "for col in numerical_columns:\n",
        "    plt.figure(figsize=(10, 4))\n",
        "    sns.boxplot(x=data[col])\n",
        "    plt.title(f\"Boxplot for {col}\")\n",
        "    plt.show()"
      ],
      "metadata": {
        "colab": {
          "base_uri": "https://localhost:8080/",
          "height": 1000
        },
        "outputId": "c6350a98-3496-474c-e313-4bc5a3dfea49",
        "id": "VzPJgsCcKMoH"
      },
      "execution_count": 33,
      "outputs": [
        {
          "output_type": "display_data",
          "data": {
            "text/plain": [
              "<Figure size 1000x400 with 1 Axes>"
            ],
            "image/png": "[encoded data removed]"
          },
          "metadata": {}
        },
        {
          "output_type": "display_data",
          "data": {
            "text/plain": [
              "<Figure size 1000x400 with 1 Axes>"
            ],
            "image/png": "[encoded data removed]"
          },
          "metadata": {}
        },
        {
          "output_type": "display_data",
          "data": {
            "text/plain": [
              "<Figure size 1000x400 with 1 Axes>"
            ],
            "image/png": "[encoded data removed]"
          },
          "metadata": {}
        },
        {
          "output_type": "display_data",
          "data": {
            "text/plain": [
              "<Figure size 1000x400 with 1 Axes>"
            ],
            "image/png": "[encoded data removed]"
          },
          "metadata": {}
        }
      ]
    },
    {
      "cell_type": "markdown",
      "source": [
        "## ***1.2 Pre-Processing***"
      ],
      "metadata": {
        "id": "jFAWMxntJA1t"
      }
    },
    {
      "cell_type": "markdown",
      "source": [
        "***A. Missing Values Handling***"
      ],
      "metadata": {
        "id": "PtwFn7Tg4YTE"
      }
    },
    {
      "cell_type": "code",
      "source": [
        "# Fill missing values\n",
        "numerical_features = ['mileage', 'year_of_registration']\n",
        "categorical_features = ['fuel_type', 'vehicle_condition', 'body_type', 'reg_code', 'standard_colour']\n",
        "\n",
        "# Check column names in the DataFrame\n",
        "print(\"Columns in DataFrame:\")\n",
        "print(data.columns)\n",
        "\n",
        "# Fill numerical features with median\n",
        "for col in numerical_features:\n",
        "    if col in data.columns:\n",
        "        data[col] = data[col].fillna(data[col].median())\n",
        "    else:\n",
        "        print(f\"Column '{col}' not found in DataFrame.\")\n",
        "\n",
        "# Fill categorical features with 'Unknown'\n",
        "for col in categorical_features:\n",
        "    if col in data.columns:\n",
        "        data[col] = data[col].fillna('Unknown')\n",
        "    else:\n",
        "        print(f\"Column '{col}' not found in DataFrame.\")\n",
        "\n",
        "# Confirm no missing values remain\n",
        "print(\"Remaining Missing Values:\")\n",
        "print(data.isnull().sum())"
      ],
      "metadata": {
        "colab": {
          "base_uri": "https://localhost:8080/"
        },
        "id": "1zyAntFBG-2l",
        "outputId": "965089cf-1723-448e-e8de-e6bb519232d3"
      },
      "execution_count": 34,
      "outputs": [
        {
          "output_type": "stream",
          "name": "stdout",
          "text": [
            "Columns in DataFrame:\n",
            "Index(['public_reference', 'mileage', 'reg_code', 'standard_colour',\n",
            "       'standard_make', 'standard_model', 'vehicle_condition',\n",
            "       'year_of_registration', 'price', 'body_type', 'crossover_car_and_van',\n",
            "       'fuel_type'],\n",
            "      dtype='object')\n",
            "Remaining Missing Values:\n",
            "public_reference         0\n",
            "mileage                  0\n",
            "reg_code                 0\n",
            "standard_colour          0\n",
            "standard_make            0\n",
            "standard_model           0\n",
            "vehicle_condition        0\n",
            "year_of_registration     0\n",
            "price                    0\n",
            "body_type                0\n",
            "crossover_car_and_van    0\n",
            "fuel_type                0\n",
            "dtype: int64\n"
          ]
        }
      ]
    },
    {
      "cell_type": "markdown",
      "source": [
        "***B. IQR for Outlier handling***"
      ],
      "metadata": {
        "id": "hUKhk5WdKjge"
      }
    },
    {
      "cell_type": "code",
      "source": [
        "# Import necessary libraries\n",
        "import pandas as pd\n",
        "\n",
        "# Function to detect and address outliers using IQR\n",
        "def handle_outliers(df, column, remove=True):\n",
        "    \"\"\"\n",
        "    Detect and handle outliers in a given column using the IQR method.\n",
        "\n",
        "    Parameters:\n",
        "    - df: DataFrame\n",
        "    - column: str, the column name to process\n",
        "    - remove: bool, if True removes outliers; if False, caps them\n",
        "\n",
        "    Returns:\n",
        "    - DataFrame: Updated DataFrame with outliers handled\n",
        "    \"\"\"\n",
        "    Q1 = df[column].quantile(0.25)  # First quartile (25th percentile)\n",
        "    Q3 = df[column].quantile(0.75)  # Third quartile (75th percentile)\n",
        "    IQR = Q3 - Q1  # Interquartile range\n",
        "\n",
        "    # Define outlier boundaries\n",
        "    lower_bound = Q1 - 1.5 * IQR\n",
        "    upper_bound = Q3 + 1.5 * IQR\n",
        "\n",
        "    if remove:\n",
        "        # Option 1: Remove outliers\n",
        "        df = df[(df[column] >= lower_bound) & (df[column] <= upper_bound)]\n",
        "    else:\n",
        "        # Option 2: Cap outliers (retain data but limit extreme values)\n",
        "        df[column] = df[column].clip(lower_bound, upper_bound)\n",
        "\n",
        "    return df\n",
        "\n",
        "# **Handle Outliers in 'price' and 'mileage' Columns**\n",
        "# Option to remove or cap outliers\n",
        "data = handle_outliers(data, 'price', remove=True)  # Removing outliers\n",
        "data = handle_outliers(data, 'mileage', remove=True)  # Removing outliers\n",
        "\n",
        "# Check new dataset size\n",
        "print(\"Remaining Rows After Outlier Removal:\", data.shape[0])"
      ],
      "metadata": {
        "colab": {
          "base_uri": "https://localhost:8080/"
        },
        "id": "7ipCdu-vGryV",
        "outputId": "f3e12d44-0e6e-4270-ca92-f09b5a5c0bc8"
      },
      "execution_count": 35,
      "outputs": [
        {
          "output_type": "stream",
          "name": "stdout",
          "text": [
            "Remaining Rows After Outlier Removal: 368276\n"
          ]
        }
      ]
    },
    {
      "cell_type": "markdown",
      "source": [
        "**Sampling the Dataset**\n",
        "\n",
        "To manage computational resources effectively, we will take a random sample of 8,000 rows from the dataset."
      ],
      "metadata": {
        "id": "oO6m8YFyO9-O"
      }
    },
    {
      "cell_type": "code",
      "source": [
        "# Sampling the dataset\n",
        "data_sampled = data.sample(n=8000, random_state=42)\n",
        "\n",
        "# Confirm the sample size\n",
        "print(\"Sampled Data Shape:\", data_sampled.shape)"
      ],
      "metadata": {
        "colab": {
          "base_uri": "https://localhost:8080/"
        },
        "id": "BQh2rqAlPAvm",
        "outputId": "7b0103bf-d077-4f08-da9d-7b91d0382c83"
      },
      "execution_count": 36,
      "outputs": [
        {
          "output_type": "stream",
          "name": "stdout",
          "text": [
            "Sampled Data Shape: (8000, 12)\n"
          ]
        }
      ]
    },
    {
      "cell_type": "markdown",
      "source": [
        "**C. Feature Engineering**\n",
        "\n",
        "Feature engineering is a crucial step to improve the predictive performance of machine learning models. Here, we will:\n",
        "\n",
        "1. Create new relevant features from the existing data.\n",
        "2. Perform clustering to generate new insights.\n",
        "3. Engineer meaningful interactions between features."
      ],
      "metadata": {
        "id": "LvBFPwsYM7P1"
      }
    },
    {
      "cell_type": "code",
      "source": [
        "# Create new features\n",
        "data_sampled['car_age'] = 2025 - data_sampled['year_of_registration']\n",
        "data_sampled['mileage_per_year'] = data_sampled['mileage'] / data_sampled['car_age']\n",
        "data_sampled['mileage_per_year'] = data_sampled['mileage_per_year'].replace([np.inf, -np.inf], 0)  # Handle division by zero\n",
        "\n",
        "# Check the new features\n",
        "data_sampled[['car_age', 'mileage_per_year']].head()"
      ],
      "metadata": {
        "colab": {
          "base_uri": "https://localhost:8080/",
          "height": 206
        },
        "id": "AIQH5gloM78_",
        "outputId": "e486cb3d-711d-4a58-94af-f05d39874da1"
      },
      "execution_count": 37,
      "outputs": [
        {
          "output_type": "execute_result",
          "data": {
            "text/plain": [
              "        car_age  mileage_per_year\n",
              "316899      7.0       2251.714286\n",
              "117767     11.0       5818.181818\n",
              "121994      8.0       4720.125000\n",
              "391211      9.0          0.000000\n",
              "292885      9.0          0.000000"
            ],
            "text/html": [
              "\n",
              "  <div id=\"df-e6f4f421-1bcb-4963-b5da-fe69c9d7eea7\" class=\"colab-df-container\">\n",
              "    <div>\n",
              "<style scoped>\n",
              "    .dataframe tbody tr th:only-of-type {\n",
              "        vertical-align: middle;\n",
              "    }\n",
              "\n",
              "    .dataframe tbody tr th {\n",
              "        vertical-align: top;\n",
              "    }\n",
              "\n",
              "    .dataframe thead th {\n",
              "        text-align: right;\n",
              "    }\n",
              "</style>\n",
              "<table border=\"1\" class=\"dataframe\">\n",
              "  <thead>\n",
              "    <tr style=\"text-align: right;\">\n",
              "      <th></th>\n",
              "      <th>car_age</th>\n",
              "      <th>mileage_per_year</th>\n",
              "    </tr>\n",
              "  </thead>\n",
              "  <tbody>\n",
              "    <tr>\n",
              "      <th>316899</th>\n",
              "      <td>7.0</td>\n",
              "      <td>2251.714286</td>\n",
              "    </tr>\n",
              "    <tr>\n",
              "      <th>117767</th>\n",
              "      <td>11.0</td>\n",
              "      <td>5818.181818</td>\n",
              "    </tr>\n",
              "    <tr>\n",
              "      <th>121994</th>\n",
              "      <td>8.0</td>\n",
              "      <td>4720.125000</td>\n",
              "    </tr>\n",
              "    <tr>\n",
              "      <th>391211</th>\n",
              "      <td>9.0</td>\n",
              "      <td>0.000000</td>\n",
              "    </tr>\n",
              "    <tr>\n",
              "      <th>292885</th>\n",
              "      <td>9.0</td>\n",
              "      <td>0.000000</td>\n",
              "    </tr>\n",
              "  </tbody>\n",
              "</table>\n",
              "</div>\n",
              "    <div class=\"colab-df-buttons\">\n",
              "\n",
              "  <div class=\"colab-df-container\">\n",
              "    <button class=\"colab-df-convert\" onclick=\"convertToInteractive('df-e6f4f421-1bcb-4963-b5da-fe69c9d7eea7')\"\n",
              "            title=\"Convert this dataframe to an interactive table.\"\n",
              "            style=\"display:none;\">\n",
              "\n",
              "  <svg xmlns=\"http://www.w3.org/2000/svg\" height=\"24px\" viewBox=\"0 -960 960 960\">\n",
              "    <path d=\"M120-120v-720h720v720H120Zm60-500h600v-160H180v160Zm220 220h160v-160H400v160Zm0 220h160v-160H400v160ZM180-400h160v-160H180v160Zm440 0h160v-160H620v160ZM180-180h160v-160H180v160Zm440 0h160v-160H620v160Z\"/>\n",
              "  </svg>\n",
              "    </button>\n",
              "\n",
              "  <style>\n",
              "    .colab-df-container {\n",
              "      display:flex;\n",
              "      gap: 12px;\n",
              "    }\n",
              "\n",
              "    .colab-df-convert {\n",
              "      background-color: #E8F0FE;\n",
              "      border: none;\n",
              "      border-radius: 50%;\n",
              "      cursor: pointer;\n",
              "      display: none;\n",
              "      fill: #1967D2;\n",
              "      height: 32px;\n",
              "      padding: 0 0 0 0;\n",
              "      width: 32px;\n",
              "    }\n",
              "\n",
              "    .colab-df-convert:hover {\n",
              "      background-color: #E2EBFA;\n",
              "      box-shadow: 0px 1px 2px rgba(60, 64, 67, 0.3), 0px 1px 3px 1px rgba(60, 64, 67, 0.15);\n",
              "      fill: #174EA6;\n",
              "    }\n",
              "\n",
              "    .colab-df-buttons div {\n",
              "      margin-bottom: 4px;\n",
              "    }\n",
              "\n",
              "    [theme=dark] .colab-df-convert {\n",
              "      background-color: #3B4455;\n",
              "      fill: #D2E3FC;\n",
              "    }\n",
              "\n",
              "    [theme=dark] .colab-df-convert:hover {\n",
              "      background-color: #434B5C;\n",
              "      box-shadow: 0px 1px 3px 1px rgba(0, 0, 0, 0.15);\n",
              "      filter: drop-shadow(0px 1px 2px rgba(0, 0, 0, 0.3));\n",
              "      fill: #FFFFFF;\n",
              "    }\n",
              "  </style>\n",
              "\n",
              "    <script>\n",
              "      const buttonEl =\n",
              "        document.querySelector('#df-e6f4f421-1bcb-4963-b5da-fe69c9d7eea7 button.colab-df-convert');\n",
              "      buttonEl.style.display =\n",
              "        google.colab.kernel.accessAllowed ? 'block' : 'none';\n",
              "\n",
              "      async function convertToInteractive(key) {\n",
              "        const element = document.querySelector('#df-e6f4f421-1bcb-4963-b5da-fe69c9d7eea7');\n",
              "        const dataTable =\n",
              "          await google.colab.kernel.invokeFunction('convertToInteractive',\n",
              "                                                    [key], {});\n",
              "        if (!dataTable) return;\n",
              "\n",
              "        const docLinkHtml = 'Like what you see? Visit the ' +\n",
              "          '<a target=\"_blank\" href=https://colab.research.google.com/notebooks/data_table.ipynb>data table notebook</a>'\n",
              "          + ' to learn more about interactive tables.';\n",
              "        element.innerHTML = '';\n",
              "        dataTable['output_type'] = 'display_data';\n",
              "        await google.colab.output.renderOutput(dataTable, element);\n",
              "        const docLink = document.createElement('div');\n",
              "        docLink.innerHTML = docLinkHtml;\n",
              "        element.appendChild(docLink);\n",
              "      }\n",
              "    </script>\n",
              "  </div>\n",
              "\n",
              "\n",
              "    <div id=\"df-78fad0f6-21b2-4d5f-a550-0224607dc4ac\">\n",
              "      <button class=\"colab-df-quickchart\" onclick=\"quickchart('df-78fad0f6-21b2-4d5f-a550-0224607dc4ac')\"\n",
              "                title=\"Suggest charts\"\n",
              "                style=\"display:none;\">\n",
              "\n",
              "<svg xmlns=\"http://www.w3.org/2000/svg\" height=\"24px\"viewBox=\"0 0 24 24\"\n",
              "     width=\"24px\">\n",
              "    <g>\n",
              "        <path d=\"M19 3H5c-1.1 0-2 .9-2 2v14c0 1.1.9 2 2 2h14c1.1 0 2-.9 2-2V5c0-1.1-.9-2-2-2zM9 17H7v-7h2v7zm4 0h-2V7h2v10zm4 0h-2v-4h2v4z\"/>\n",
              "    </g>\n",
              "</svg>\n",
              "      </button>\n",
              "\n",
              "<style>\n",
              "  .colab-df-quickchart {\n",
              "      --bg-color: #E8F0FE;\n",
              "      --fill-color: #1967D2;\n",
              "      --hover-bg-color: #E2EBFA;\n",
              "      --hover-fill-color: #174EA6;\n",
              "      --disabled-fill-color: #AAA;\n",
              "      --disabled-bg-color: #DDD;\n",
              "  }\n",
              "\n",
              "  [theme=dark] .colab-df-quickchart {\n",
              "      --bg-color: #3B4455;\n",
              "      --fill-color: #D2E3FC;\n",
              "      --hover-bg-color: #434B5C;\n",
              "      --hover-fill-color: #FFFFFF;\n",
              "      --disabled-bg-color: #3B4455;\n",
              "      --disabled-fill-color: #666;\n",
              "  }\n",
              "\n",
              "  .colab-df-quickchart {\n",
              "    background-color: var(--bg-color);\n",
              "    border: none;\n",
              "    border-radius: 50%;\n",
              "    cursor: pointer;\n",
              "    display: none;\n",
              "    fill: var(--fill-color);\n",
              "    height: 32px;\n",
              "    padding: 0;\n",
              "    width: 32px;\n",
              "  }\n",
              "\n",
              "  .colab-df-quickchart:hover {\n",
              "    background-color: var(--hover-bg-color);\n",
              "    box-shadow: 0 1px 2px rgba(60, 64, 67, 0.3), 0 1px 3px 1px rgba(60, 64, 67, 0.15);\n",
              "    fill: var(--button-hover-fill-color);\n",
              "  }\n",
              "\n",
              "  .colab-df-quickchart-complete:disabled,\n",
              "  .colab-df-quickchart-complete:disabled:hover {\n",
              "    background-color: var(--disabled-bg-color);\n",
              "    fill: var(--disabled-fill-color);\n",
              "    box-shadow: none;\n",
              "  }\n",
              "\n",
              "  .colab-df-spinner {\n",
              "    border: 2px solid var(--fill-color);\n",
              "    border-color: transparent;\n",
              "    border-bottom-color: var(--fill-color);\n",
              "    animation:\n",
              "      spin 1s steps(1) infinite;\n",
              "  }\n",
              "\n",
              "  @keyframes spin {\n",
              "    0% {\n",
              "      border-color: transparent;\n",
              "      border-bottom-color: var(--fill-color);\n",
              "      border-left-color: var(--fill-color);\n",
              "    }\n",
              "    20% {\n",
              "      border-color: transparent;\n",
              "      border-left-color: var(--fill-color);\n",
              "      border-top-color: var(--fill-color);\n",
              "    }\n",
              "    30% {\n",
              "      border-color: transparent;\n",
              "      border-left-color: var(--fill-color);\n",
              "      border-top-color: var(--fill-color);\n",
              "      border-right-color: var(--fill-color);\n",
              "    }\n",
              "    40% {\n",
              "      border-color: transparent;\n",
              "      border-right-color: var(--fill-color);\n",
              "      border-top-color: var(--fill-color);\n",
              "    }\n",
              "    60% {\n",
              "      border-color: transparent;\n",
              "      border-right-color: var(--fill-color);\n",
              "    }\n",
              "    80% {\n",
              "      border-color: transparent;\n",
              "      border-right-color: var(--fill-color);\n",
              "      border-bottom-color: var(--fill-color);\n",
              "    }\n",
              "    90% {\n",
              "      border-color: transparent;\n",
              "      border-bottom-color: var(--fill-color);\n",
              "    }\n",
              "  }\n",
              "</style>\n",
              "\n",
              "      <script>\n",
              "        async function quickchart(key) {\n",
              "          const quickchartButtonEl =\n",
              "            document.querySelector('#' + key + ' button');\n",
              "          quickchartButtonEl.disabled = true;  // To prevent multiple clicks.\n",
              "          quickchartButtonEl.classList.add('colab-df-spinner');\n",
              "          try {\n",
              "            const charts = await google.colab.kernel.invokeFunction(\n",
              "                'suggestCharts', [key], {});\n",
              "          } catch (error) {\n",
              "            console.error('Error during call to suggestCharts:', error);\n",
              "          }\n",
              "          quickchartButtonEl.classList.remove('colab-df-spinner');\n",
              "          quickchartButtonEl.classList.add('colab-df-quickchart-complete');\n",
              "        }\n",
              "        (() => {\n",
              "          let quickchartButtonEl =\n",
              "            document.querySelector('#df-78fad0f6-21b2-4d5f-a550-0224607dc4ac button');\n",
              "          quickchartButtonEl.style.display =\n",
              "            google.colab.kernel.accessAllowed ? 'block' : 'none';\n",
              "        })();\n",
              "      </script>\n",
              "    </div>\n",
              "\n",
              "    </div>\n",
              "  </div>\n"
            ],
            "application/vnd.google.colaboratory.intrinsic+json": {
              "type": "dataframe",
              "summary": "{\n  \"name\": \"data_sampled[['car_age', 'mileage_per_year']]\",\n  \"rows\": 5,\n  \"fields\": [\n    {\n      \"column\": \"car_age\",\n      \"properties\": {\n        \"dtype\": \"number\",\n        \"std\": 1.4832396974191324,\n        \"min\": 7.0,\n        \"max\": 11.0,\n        \"num_unique_values\": 4,\n        \"samples\": [\n          11.0,\n          9.0,\n          7.0\n        ],\n        \"semantic_type\": \"\",\n        \"description\": \"\"\n      }\n    },\n    {\n      \"column\": \"mileage_per_year\",\n      \"properties\": {\n        \"dtype\": \"number\",\n        \"std\": 2668.525292268875,\n        \"min\": 0.0,\n        \"max\": 5818.181818181818,\n        \"num_unique_values\": 4,\n        \"samples\": [\n          5818.181818181818,\n          0.0,\n          2251.714285714286\n        ],\n        \"semantic_type\": \"\",\n        \"description\": \"\"\n      }\n    }\n  ]\n}"
            }
          },
          "metadata": {},
          "execution_count": 37
        }
      ]
    },
    {
      "cell_type": "markdown",
      "source": [
        "**D. Encode Categorical Variables**\n",
        "\n",
        "We will encode categorical variables using **Target Encoding**."
      ],
      "metadata": {
        "id": "OqP2u1tBNjYI"
      }
    },
    {
      "cell_type": "code",
      "source": [
        "# Create new features\n",
        "data_sampled['car_age'] = 2025 - data_sampled['year_of_registration']\n",
        "data_sampled['mileage_per_year'] = data_sampled['mileage'] / data_sampled['car_age']\n",
        "data_sampled['mileage_per_year'] = data_sampled['mileage_per_year'].replace([np.inf, -np.inf], 0)  # Handle division by zero\n",
        "\n",
        "# Check the new features\n",
        "data_sampled[['car_age', 'mileage_per_year']].head()"
      ],
      "metadata": {
        "colab": {
          "base_uri": "https://localhost:8080/",
          "height": 206
        },
        "id": "Gq6SvKavNlOP",
        "outputId": "fc35e82d-5f8e-414d-9d76-7d922ca92f00"
      },
      "execution_count": 38,
      "outputs": [
        {
          "output_type": "execute_result",
          "data": {
            "text/plain": [
              "        car_age  mileage_per_year\n",
              "316899      7.0       2251.714286\n",
              "117767     11.0       5818.181818\n",
              "121994      8.0       4720.125000\n",
              "391211      9.0          0.000000\n",
              "292885      9.0          0.000000"
            ],
            "text/html": [
              "\n",
              "  <div id=\"df-0dcf6260-8aca-4811-b439-532b21144457\" class=\"colab-df-container\">\n",
              "    <div>\n",
              "<style scoped>\n",
              "    .dataframe tbody tr th:only-of-type {\n",
              "        vertical-align: middle;\n",
              "    }\n",
              "\n",
              "    .dataframe tbody tr th {\n",
              "        vertical-align: top;\n",
              "    }\n",
              "\n",
              "    .dataframe thead th {\n",
              "        text-align: right;\n",
              "    }\n",
              "</style>\n",
              "<table border=\"1\" class=\"dataframe\">\n",
              "  <thead>\n",
              "    <tr style=\"text-align: right;\">\n",
              "      <th></th>\n",
              "      <th>car_age</th>\n",
              "      <th>mileage_per_year</th>\n",
              "    </tr>\n",
              "  </thead>\n",
              "  <tbody>\n",
              "    <tr>\n",
              "      <th>316899</th>\n",
              "      <td>7.0</td>\n",
              "      <td>2251.714286</td>\n",
              "    </tr>\n",
              "    <tr>\n",
              "      <th>117767</th>\n",
              "      <td>11.0</td>\n",
              "      <td>5818.181818</td>\n",
              "    </tr>\n",
              "    <tr>\n",
              "      <th>121994</th>\n",
              "      <td>8.0</td>\n",
              "      <td>4720.125000</td>\n",
              "    </tr>\n",
              "    <tr>\n",
              "      <th>391211</th>\n",
              "      <td>9.0</td>\n",
              "      <td>0.000000</td>\n",
              "    </tr>\n",
              "    <tr>\n",
              "      <th>292885</th>\n",
              "      <td>9.0</td>\n",
              "      <td>0.000000</td>\n",
              "    </tr>\n",
              "  </tbody>\n",
              "</table>\n",
              "</div>\n",
              "    <div class=\"colab-df-buttons\">\n",
              "\n",
              "  <div class=\"colab-df-container\">\n",
              "    <button class=\"colab-df-convert\" onclick=\"convertToInteractive('df-0dcf6260-8aca-4811-b439-532b21144457')\"\n",
              "            title=\"Convert this dataframe to an interactive table.\"\n",
              "            style=\"display:none;\">\n",
              "\n",
              "  <svg xmlns=\"http://www.w3.org/2000/svg\" height=\"24px\" viewBox=\"0 -960 960 960\">\n",
              "    <path d=\"M120-120v-720h720v720H120Zm60-500h600v-160H180v160Zm220 220h160v-160H400v160Zm0 220h160v-160H400v160ZM180-400h160v-160H180v160Zm440 0h160v-160H620v160ZM180-180h160v-160H180v160Zm440 0h160v-160H620v160Z\"/>\n",
              "  </svg>\n",
              "    </button>\n",
              "\n",
              "  <style>\n",
              "    .colab-df-container {\n",
              "      display:flex;\n",
              "      gap: 12px;\n",
              "    }\n",
              "\n",
              "    .colab-df-convert {\n",
              "      background-color: #E8F0FE;\n",
              "      border: none;\n",
              "      border-radius: 50%;\n",
              "      cursor: pointer;\n",
              "      display: none;\n",
              "      fill: #1967D2;\n",
              "      height: 32px;\n",
              "      padding: 0 0 0 0;\n",
              "      width: 32px;\n",
              "    }\n",
              "\n",
              "    .colab-df-convert:hover {\n",
              "      background-color: #E2EBFA;\n",
              "      box-shadow: 0px 1px 2px rgba(60, 64, 67, 0.3), 0px 1px 3px 1px rgba(60, 64, 67, 0.15);\n",
              "      fill: #174EA6;\n",
              "    }\n",
              "\n",
              "    .colab-df-buttons div {\n",
              "      margin-bottom: 4px;\n",
              "    }\n",
              "\n",
              "    [theme=dark] .colab-df-convert {\n",
              "      background-color: #3B4455;\n",
              "      fill: #D2E3FC;\n",
              "    }\n",
              "\n",
              "    [theme=dark] .colab-df-convert:hover {\n",
              "      background-color: #434B5C;\n",
              "      box-shadow: 0px 1px 3px 1px rgba(0, 0, 0, 0.15);\n",
              "      filter: drop-shadow(0px 1px 2px rgba(0, 0, 0, 0.3));\n",
              "      fill: #FFFFFF;\n",
              "    }\n",
              "  </style>\n",
              "\n",
              "    <script>\n",
              "      const buttonEl =\n",
              "        document.querySelector('#df-0dcf6260-8aca-4811-b439-532b21144457 button.colab-df-convert');\n",
              "      buttonEl.style.display =\n",
              "        google.colab.kernel.accessAllowed ? 'block' : 'none';\n",
              "\n",
              "      async function convertToInteractive(key) {\n",
              "        const element = document.querySelector('#df-0dcf6260-8aca-4811-b439-532b21144457');\n",
              "        const dataTable =\n",
              "          await google.colab.kernel.invokeFunction('convertToInteractive',\n",
              "                                                    [key], {});\n",
              "        if (!dataTable) return;\n",
              "\n",
              "        const docLinkHtml = 'Like what you see? Visit the ' +\n",
              "          '<a target=\"_blank\" href=https://colab.research.google.com/notebooks/data_table.ipynb>data table notebook</a>'\n",
              "          + ' to learn more about interactive tables.';\n",
              "        element.innerHTML = '';\n",
              "        dataTable['output_type'] = 'display_data';\n",
              "        await google.colab.output.renderOutput(dataTable, element);\n",
              "        const docLink = document.createElement('div');\n",
              "        docLink.innerHTML = docLinkHtml;\n",
              "        element.appendChild(docLink);\n",
              "      }\n",
              "    </script>\n",
              "  </div>\n",
              "\n",
              "\n",
              "    <div id=\"df-dac905d1-0085-475b-8a82-20f1ac9fdd96\">\n",
              "      <button class=\"colab-df-quickchart\" onclick=\"quickchart('df-dac905d1-0085-475b-8a82-20f1ac9fdd96')\"\n",
              "                title=\"Suggest charts\"\n",
              "                style=\"display:none;\">\n",
              "\n",
              "<svg xmlns=\"http://www.w3.org/2000/svg\" height=\"24px\"viewBox=\"0 0 24 24\"\n",
              "     width=\"24px\">\n",
              "    <g>\n",
              "        <path d=\"M19 3H5c-1.1 0-2 .9-2 2v14c0 1.1.9 2 2 2h14c1.1 0 2-.9 2-2V5c0-1.1-.9-2-2-2zM9 17H7v-7h2v7zm4 0h-2V7h2v10zm4 0h-2v-4h2v4z\"/>\n",
              "    </g>\n",
              "</svg>\n",
              "      </button>\n",
              "\n",
              "<style>\n",
              "  .colab-df-quickchart {\n",
              "      --bg-color: #E8F0FE;\n",
              "      --fill-color: #1967D2;\n",
              "      --hover-bg-color: #E2EBFA;\n",
              "      --hover-fill-color: #174EA6;\n",
              "      --disabled-fill-color: #AAA;\n",
              "      --disabled-bg-color: #DDD;\n",
              "  }\n",
              "\n",
              "  [theme=dark] .colab-df-quickchart {\n",
              "      --bg-color: #3B4455;\n",
              "      --fill-color: #D2E3FC;\n",
              "      --hover-bg-color: #434B5C;\n",
              "      --hover-fill-color: #FFFFFF;\n",
              "      --disabled-bg-color: #3B4455;\n",
              "      --disabled-fill-color: #666;\n",
              "  }\n",
              "\n",
              "  .colab-df-quickchart {\n",
              "    background-color: var(--bg-color);\n",
              "    border: none;\n",
              "    border-radius: 50%;\n",
              "    cursor: pointer;\n",
              "    display: none;\n",
              "    fill: var(--fill-color);\n",
              "    height: 32px;\n",
              "    padding: 0;\n",
              "    width: 32px;\n",
              "  }\n",
              "\n",
              "  .colab-df-quickchart:hover {\n",
              "    background-color: var(--hover-bg-color);\n",
              "    box-shadow: 0 1px 2px rgba(60, 64, 67, 0.3), 0 1px 3px 1px rgba(60, 64, 67, 0.15);\n",
              "    fill: var(--button-hover-fill-color);\n",
              "  }\n",
              "\n",
              "  .colab-df-quickchart-complete:disabled,\n",
              "  .colab-df-quickchart-complete:disabled:hover {\n",
              "    background-color: var(--disabled-bg-color);\n",
              "    fill: var(--disabled-fill-color);\n",
              "    box-shadow: none;\n",
              "  }\n",
              "\n",
              "  .colab-df-spinner {\n",
              "    border: 2px solid var(--fill-color);\n",
              "    border-color: transparent;\n",
              "    border-bottom-color: var(--fill-color);\n",
              "    animation:\n",
              "      spin 1s steps(1) infinite;\n",
              "  }\n",
              "\n",
              "  @keyframes spin {\n",
              "    0% {\n",
              "      border-color: transparent;\n",
              "      border-bottom-color: var(--fill-color);\n",
              "      border-left-color: var(--fill-color);\n",
              "    }\n",
              "    20% {\n",
              "      border-color: transparent;\n",
              "      border-left-color: var(--fill-color);\n",
              "      border-top-color: var(--fill-color);\n",
              "    }\n",
              "    30% {\n",
              "      border-color: transparent;\n",
              "      border-left-color: var(--fill-color);\n",
              "      border-top-color: var(--fill-color);\n",
              "      border-right-color: var(--fill-color);\n",
              "    }\n",
              "    40% {\n",
              "      border-color: transparent;\n",
              "      border-right-color: var(--fill-color);\n",
              "      border-top-color: var(--fill-color);\n",
              "    }\n",
              "    60% {\n",
              "      border-color: transparent;\n",
              "      border-right-color: var(--fill-color);\n",
              "    }\n",
              "    80% {\n",
              "      border-color: transparent;\n",
              "      border-right-color: var(--fill-color);\n",
              "      border-bottom-color: var(--fill-color);\n",
              "    }\n",
              "    90% {\n",
              "      border-color: transparent;\n",
              "      border-bottom-color: var(--fill-color);\n",
              "    }\n",
              "  }\n",
              "</style>\n",
              "\n",
              "      <script>\n",
              "        async function quickchart(key) {\n",
              "          const quickchartButtonEl =\n",
              "            document.querySelector('#' + key + ' button');\n",
              "          quickchartButtonEl.disabled = true;  // To prevent multiple clicks.\n",
              "          quickchartButtonEl.classList.add('colab-df-spinner');\n",
              "          try {\n",
              "            const charts = await google.colab.kernel.invokeFunction(\n",
              "                'suggestCharts', [key], {});\n",
              "          } catch (error) {\n",
              "            console.error('Error during call to suggestCharts:', error);\n",
              "          }\n",
              "          quickchartButtonEl.classList.remove('colab-df-spinner');\n",
              "          quickchartButtonEl.classList.add('colab-df-quickchart-complete');\n",
              "        }\n",
              "        (() => {\n",
              "          let quickchartButtonEl =\n",
              "            document.querySelector('#df-dac905d1-0085-475b-8a82-20f1ac9fdd96 button');\n",
              "          quickchartButtonEl.style.display =\n",
              "            google.colab.kernel.accessAllowed ? 'block' : 'none';\n",
              "        })();\n",
              "      </script>\n",
              "    </div>\n",
              "\n",
              "    </div>\n",
              "  </div>\n"
            ],
            "application/vnd.google.colaboratory.intrinsic+json": {
              "type": "dataframe",
              "summary": "{\n  \"name\": \"data_sampled[['car_age', 'mileage_per_year']]\",\n  \"rows\": 5,\n  \"fields\": [\n    {\n      \"column\": \"car_age\",\n      \"properties\": {\n        \"dtype\": \"number\",\n        \"std\": 1.4832396974191324,\n        \"min\": 7.0,\n        \"max\": 11.0,\n        \"num_unique_values\": 4,\n        \"samples\": [\n          11.0,\n          9.0,\n          7.0\n        ],\n        \"semantic_type\": \"\",\n        \"description\": \"\"\n      }\n    },\n    {\n      \"column\": \"mileage_per_year\",\n      \"properties\": {\n        \"dtype\": \"number\",\n        \"std\": 2668.525292268875,\n        \"min\": 0.0,\n        \"max\": 5818.181818181818,\n        \"num_unique_values\": 4,\n        \"samples\": [\n          5818.181818181818,\n          0.0,\n          2251.714285714286\n        ],\n        \"semantic_type\": \"\",\n        \"description\": \"\"\n      }\n    }\n  ]\n}"
            }
          },
          "metadata": {},
          "execution_count": 38
        }
      ]
    },
    {
      "cell_type": "markdown",
      "source": [
        "**E. Scale Numerical Features**\n",
        "\n",
        "We will scale numerical features using **StandardScaler**."
      ],
      "metadata": {
        "id": "bbhK0XCINt1l"
      }
    },
    {
      "cell_type": "code",
      "source": [
        "from sklearn.preprocessing import StandardScaler\n",
        "\n",
        "# Scale numerical features\n",
        "scaler = StandardScaler()\n",
        "numerical_cols = ['mileage', 'price', 'car_age', 'mileage_per_year']\n",
        "data_sampled[numerical_cols] = scaler.fit_transform(data_sampled[numerical_cols])\n",
        "\n",
        "# Check scaled data\n",
        "data_sampled[numerical_cols].head()"
      ],
      "metadata": {
        "colab": {
          "base_uri": "https://localhost:8080/",
          "height": 206
        },
        "id": "MDqvSnBVNy9p",
        "outputId": "23631ea8-e03d-45a6-aa81-9c0acfba115f"
      },
      "execution_count": 39,
      "outputs": [
        {
          "output_type": "execute_result",
          "data": {
            "text/plain": [
              "         mileage     price   car_age  mileage_per_year\n",
              "316899 -0.689011  0.765502 -0.707773         -0.498422\n",
              "117767  0.866563 -0.621111  0.298927          0.990894\n",
              "121994  0.020410 -0.801910 -0.456098          0.532358\n",
              "391211 -1.197303  0.383653 -0.204423         -1.438712\n",
              "292885 -1.197303  0.552158 -0.204423         -1.438712"
            ],
            "text/html": [
              "\n",
              "  <div id=\"df-5df10f9e-8654-4b3c-b2a8-3f0aa56543b3\" class=\"colab-df-container\">\n",
              "    <div>\n",
              "<style scoped>\n",
              "    .dataframe tbody tr th:only-of-type {\n",
              "        vertical-align: middle;\n",
              "    }\n",
              "\n",
              "    .dataframe tbody tr th {\n",
              "        vertical-align: top;\n",
              "    }\n",
              "\n",
              "    .dataframe thead th {\n",
              "        text-align: right;\n",
              "    }\n",
              "</style>\n",
              "<table border=\"1\" class=\"dataframe\">\n",
              "  <thead>\n",
              "    <tr style=\"text-align: right;\">\n",
              "      <th></th>\n",
              "      <th>mileage</th>\n",
              "      <th>price</th>\n",
              "      <th>car_age</th>\n",
              "      <th>mileage_per_year</th>\n",
              "    </tr>\n",
              "  </thead>\n",
              "  <tbody>\n",
              "    <tr>\n",
              "      <th>316899</th>\n",
              "      <td>-0.689011</td>\n",
              "      <td>0.765502</td>\n",
              "      <td>-0.707773</td>\n",
              "      <td>-0.498422</td>\n",
              "    </tr>\n",
              "    <tr>\n",
              "      <th>117767</th>\n",
              "      <td>0.866563</td>\n",
              "      <td>-0.621111</td>\n",
              "      <td>0.298927</td>\n",
              "      <td>0.990894</td>\n",
              "    </tr>\n",
              "    <tr>\n",
              "      <th>121994</th>\n",
              "      <td>0.020410</td>\n",
              "      <td>-0.801910</td>\n",
              "      <td>-0.456098</td>\n",
              "      <td>0.532358</td>\n",
              "    </tr>\n",
              "    <tr>\n",
              "      <th>391211</th>\n",
              "      <td>-1.197303</td>\n",
              "      <td>0.383653</td>\n",
              "      <td>-0.204423</td>\n",
              "      <td>-1.438712</td>\n",
              "    </tr>\n",
              "    <tr>\n",
              "      <th>292885</th>\n",
              "      <td>-1.197303</td>\n",
              "      <td>0.552158</td>\n",
              "      <td>-0.204423</td>\n",
              "      <td>-1.438712</td>\n",
              "    </tr>\n",
              "  </tbody>\n",
              "</table>\n",
              "</div>\n",
              "    <div class=\"colab-df-buttons\">\n",
              "\n",
              "  <div class=\"colab-df-container\">\n",
              "    <button class=\"colab-df-convert\" onclick=\"convertToInteractive('df-5df10f9e-8654-4b3c-b2a8-3f0aa56543b3')\"\n",
              "            title=\"Convert this dataframe to an interactive table.\"\n",
              "            style=\"display:none;\">\n",
              "\n",
              "  <svg xmlns=\"http://www.w3.org/2000/svg\" height=\"24px\" viewBox=\"0 -960 960 960\">\n",
              "    <path d=\"M120-120v-720h720v720H120Zm60-500h600v-160H180v160Zm220 220h160v-160H400v160Zm0 220h160v-160H400v160ZM180-400h160v-160H180v160Zm440 0h160v-160H620v160ZM180-180h160v-160H180v160Zm440 0h160v-160H620v160Z\"/>\n",
              "  </svg>\n",
              "    </button>\n",
              "\n",
              "  <style>\n",
              "    .colab-df-container {\n",
              "      display:flex;\n",
              "      gap: 12px;\n",
              "    }\n",
              "\n",
              "    .colab-df-convert {\n",
              "      background-color: #E8F0FE;\n",
              "      border: none;\n",
              "      border-radius: 50%;\n",
              "      cursor: pointer;\n",
              "      display: none;\n",
              "      fill: #1967D2;\n",
              "      height: 32px;\n",
              "      padding: 0 0 0 0;\n",
              "      width: 32px;\n",
              "    }\n",
              "\n",
              "    .colab-df-convert:hover {\n",
              "      background-color: #E2EBFA;\n",
              "      box-shadow: 0px 1px 2px rgba(60, 64, 67, 0.3), 0px 1px 3px 1px rgba(60, 64, 67, 0.15);\n",
              "      fill: #174EA6;\n",
              "    }\n",
              "\n",
              "    .colab-df-buttons div {\n",
              "      margin-bottom: 4px;\n",
              "    }\n",
              "\n",
              "    [theme=dark] .colab-df-convert {\n",
              "      background-color: #3B4455;\n",
              "      fill: #D2E3FC;\n",
              "    }\n",
              "\n",
              "    [theme=dark] .colab-df-convert:hover {\n",
              "      background-color: #434B5C;\n",
              "      box-shadow: 0px 1px 3px 1px rgba(0, 0, 0, 0.15);\n",
              "      filter: drop-shadow(0px 1px 2px rgba(0, 0, 0, 0.3));\n",
              "      fill: #FFFFFF;\n",
              "    }\n",
              "  </style>\n",
              "\n",
              "    <script>\n",
              "      const buttonEl =\n",
              "        document.querySelector('#df-5df10f9e-8654-4b3c-b2a8-3f0aa56543b3 button.colab-df-convert');\n",
              "      buttonEl.style.display =\n",
              "        google.colab.kernel.accessAllowed ? 'block' : 'none';\n",
              "\n",
              "      async function convertToInteractive(key) {\n",
              "        const element = document.querySelector('#df-5df10f9e-8654-4b3c-b2a8-3f0aa56543b3');\n",
              "        const dataTable =\n",
              "          await google.colab.kernel.invokeFunction('convertToInteractive',\n",
              "                                                    [key], {});\n",
              "        if (!dataTable) return;\n",
              "\n",
              "        const docLinkHtml = 'Like what you see? Visit the ' +\n",
              "          '<a target=\"_blank\" href=https://colab.research.google.com/notebooks/data_table.ipynb>data table notebook</a>'\n",
              "          + ' to learn more about interactive tables.';\n",
              "        element.innerHTML = '';\n",
              "        dataTable['output_type'] = 'display_data';\n",
              "        await google.colab.output.renderOutput(dataTable, element);\n",
              "        const docLink = document.createElement('div');\n",
              "        docLink.innerHTML = docLinkHtml;\n",
              "        element.appendChild(docLink);\n",
              "      }\n",
              "    </script>\n",
              "  </div>\n",
              "\n",
              "\n",
              "    <div id=\"df-5404ec89-6119-4ca6-8303-f9e34539d8e1\">\n",
              "      <button class=\"colab-df-quickchart\" onclick=\"quickchart('df-5404ec89-6119-4ca6-8303-f9e34539d8e1')\"\n",
              "                title=\"Suggest charts\"\n",
              "                style=\"display:none;\">\n",
              "\n",
              "<svg xmlns=\"http://www.w3.org/2000/svg\" height=\"24px\"viewBox=\"0 0 24 24\"\n",
              "     width=\"24px\">\n",
              "    <g>\n",
              "        <path d=\"M19 3H5c-1.1 0-2 .9-2 2v14c0 1.1.9 2 2 2h14c1.1 0 2-.9 2-2V5c0-1.1-.9-2-2-2zM9 17H7v-7h2v7zm4 0h-2V7h2v10zm4 0h-2v-4h2v4z\"/>\n",
              "    </g>\n",
              "</svg>\n",
              "      </button>\n",
              "\n",
              "<style>\n",
              "  .colab-df-quickchart {\n",
              "      --bg-color: #E8F0FE;\n",
              "      --fill-color: #1967D2;\n",
              "      --hover-bg-color: #E2EBFA;\n",
              "      --hover-fill-color: #174EA6;\n",
              "      --disabled-fill-color: #AAA;\n",
              "      --disabled-bg-color: #DDD;\n",
              "  }\n",
              "\n",
              "  [theme=dark] .colab-df-quickchart {\n",
              "      --bg-color: #3B4455;\n",
              "      --fill-color: #D2E3FC;\n",
              "      --hover-bg-color: #434B5C;\n",
              "      --hover-fill-color: #FFFFFF;\n",
              "      --disabled-bg-color: #3B4455;\n",
              "      --disabled-fill-color: #666;\n",
              "  }\n",
              "\n",
              "  .colab-df-quickchart {\n",
              "    background-color: var(--bg-color);\n",
              "    border: none;\n",
              "    border-radius: 50%;\n",
              "    cursor: pointer;\n",
              "    display: none;\n",
              "    fill: var(--fill-color);\n",
              "    height: 32px;\n",
              "    padding: 0;\n",
              "    width: 32px;\n",
              "  }\n",
              "\n",
              "  .colab-df-quickchart:hover {\n",
              "    background-color: var(--hover-bg-color);\n",
              "    box-shadow: 0 1px 2px rgba(60, 64, 67, 0.3), 0 1px 3px 1px rgba(60, 64, 67, 0.15);\n",
              "    fill: var(--button-hover-fill-color);\n",
              "  }\n",
              "\n",
              "  .colab-df-quickchart-complete:disabled,\n",
              "  .colab-df-quickchart-complete:disabled:hover {\n",
              "    background-color: var(--disabled-bg-color);\n",
              "    fill: var(--disabled-fill-color);\n",
              "    box-shadow: none;\n",
              "  }\n",
              "\n",
              "  .colab-df-spinner {\n",
              "    border: 2px solid var(--fill-color);\n",
              "    border-color: transparent;\n",
              "    border-bottom-color: var(--fill-color);\n",
              "    animation:\n",
              "      spin 1s steps(1) infinite;\n",
              "  }\n",
              "\n",
              "  @keyframes spin {\n",
              "    0% {\n",
              "      border-color: transparent;\n",
              "      border-bottom-color: var(--fill-color);\n",
              "      border-left-color: var(--fill-color);\n",
              "    }\n",
              "    20% {\n",
              "      border-color: transparent;\n",
              "      border-left-color: var(--fill-color);\n",
              "      border-top-color: var(--fill-color);\n",
              "    }\n",
              "    30% {\n",
              "      border-color: transparent;\n",
              "      border-left-color: var(--fill-color);\n",
              "      border-top-color: var(--fill-color);\n",
              "      border-right-color: var(--fill-color);\n",
              "    }\n",
              "    40% {\n",
              "      border-color: transparent;\n",
              "      border-right-color: var(--fill-color);\n",
              "      border-top-color: var(--fill-color);\n",
              "    }\n",
              "    60% {\n",
              "      border-color: transparent;\n",
              "      border-right-color: var(--fill-color);\n",
              "    }\n",
              "    80% {\n",
              "      border-color: transparent;\n",
              "      border-right-color: var(--fill-color);\n",
              "      border-bottom-color: var(--fill-color);\n",
              "    }\n",
              "    90% {\n",
              "      border-color: transparent;\n",
              "      border-bottom-color: var(--fill-color);\n",
              "    }\n",
              "  }\n",
              "</style>\n",
              "\n",
              "      <script>\n",
              "        async function quickchart(key) {\n",
              "          const quickchartButtonEl =\n",
              "            document.querySelector('#' + key + ' button');\n",
              "          quickchartButtonEl.disabled = true;  // To prevent multiple clicks.\n",
              "          quickchartButtonEl.classList.add('colab-df-spinner');\n",
              "          try {\n",
              "            const charts = await google.colab.kernel.invokeFunction(\n",
              "                'suggestCharts', [key], {});\n",
              "          } catch (error) {\n",
              "            console.error('Error during call to suggestCharts:', error);\n",
              "          }\n",
              "          quickchartButtonEl.classList.remove('colab-df-spinner');\n",
              "          quickchartButtonEl.classList.add('colab-df-quickchart-complete');\n",
              "        }\n",
              "        (() => {\n",
              "          let quickchartButtonEl =\n",
              "            document.querySelector('#df-5404ec89-6119-4ca6-8303-f9e34539d8e1 button');\n",
              "          quickchartButtonEl.style.display =\n",
              "            google.colab.kernel.accessAllowed ? 'block' : 'none';\n",
              "        })();\n",
              "      </script>\n",
              "    </div>\n",
              "\n",
              "    </div>\n",
              "  </div>\n"
            ],
            "application/vnd.google.colaboratory.intrinsic+json": {
              "type": "dataframe",
              "summary": "{\n  \"name\": \"data_sampled[numerical_cols]\",\n  \"rows\": 5,\n  \"fields\": [\n    {\n      \"column\": \"mileage\",\n      \"properties\": {\n        \"dtype\": \"number\",\n        \"std\": 0.8843222461401009,\n        \"min\": -1.1973027431041623,\n        \"max\": 0.8665628552575303,\n        \"num_unique_values\": 4,\n        \"samples\": [\n          0.8665628552575303,\n          -1.1973027431041623,\n          -0.6890113437076467\n        ],\n        \"semantic_type\": \"\",\n        \"description\": \"\"\n      }\n    },\n    {\n      \"column\": \"price\",\n      \"properties\": {\n        \"dtype\": \"number\",\n        \"std\": 0.7161373115546713,\n        \"min\": -0.8019102741803437,\n        \"max\": 0.7655017834990332,\n        \"num_unique_values\": 5,\n        \"samples\": [\n          -0.621110667404039,\n          0.5521582475029937,\n          -0.8019102741803437\n        ],\n        \"semantic_type\": \"\",\n        \"description\": \"\"\n      }\n    },\n    {\n      \"column\": \"car_age\",\n      \"properties\": {\n        \"dtype\": \"number\",\n        \"std\": 0.3732941817135703,\n        \"min\": -0.7077726980680572,\n        \"max\": 0.2989268458104131,\n        \"num_unique_values\": 4,\n        \"samples\": [\n          0.2989268458104131,\n          -0.20442292612882204,\n          -0.7077726980680572\n        ],\n        \"semantic_type\": \"\",\n        \"description\": \"\"\n      }\n    },\n    {\n      \"column\": \"mileage_per_year\",\n      \"properties\": {\n        \"dtype\": \"number\",\n        \"std\": 1.114345757846292,\n        \"min\": -1.4387123569702218,\n        \"max\": 0.9908940800580975,\n        \"num_unique_values\": 4,\n        \"samples\": [\n          0.9908940800580975,\n          -1.4387123569702218,\n          -0.4984221264683376\n        ],\n        \"semantic_type\": \"\",\n        \"description\": \"\"\n      }\n    }\n  ]\n}"
            }
          },
          "metadata": {},
          "execution_count": 39
        }
      ]
    },
    {
      "cell_type": "markdown",
      "source": [
        "**F. Partition the Data**\n",
        "We will split the dataset into:\n",
        "1. Training (60%)\n",
        "2. Validation (20%)\n",
        "3. Test (20%)"
      ],
      "metadata": {
        "id": "oM2TchOeN2IZ"
      }
    },
    {
      "cell_type": "code",
      "source": [
        "from sklearn.model_selection import train_test_split\n",
        "\n",
        "# Split the data into features and target\n",
        "X = data_sampled.drop(columns=['price', 'public_reference'])\n",
        "y = data_sampled['price']\n",
        "\n",
        "# Split into training, validation, and test sets\n",
        "X_train, X_temp, y_train, y_temp = train_test_split(X, y, test_size=0.4, random_state=42)\n",
        "X_val, X_test, y_val, y_test = train_test_split(X_temp, y_temp, test_size=0.5, random_state=42)\n",
        "\n",
        "print(\"Training Set Shape:\", X_train.shape)\n",
        "print(\"Validation Set Shape:\", X_val.shape)\n",
        "print(\"Test Set Shape:\", X_test.shape)"
      ],
      "metadata": {
        "colab": {
          "base_uri": "https://localhost:8080/"
        },
        "id": "n5QoRAW_N5Cp",
        "outputId": "69fb6bf9-abf0-4ad0-d0d0-3096f1a9e076"
      },
      "execution_count": 40,
      "outputs": [
        {
          "output_type": "stream",
          "name": "stdout",
          "text": [
            "Training Set Shape: (4800, 12)\n",
            "Validation Set Shape: (1600, 12)\n",
            "Test Set Shape: (1600, 12)\n"
          ]
        }
      ]
    },
    {
      "cell_type": "markdown",
      "source": [
        "# ***2. Automated Feature Selection***"
      ],
      "metadata": {
        "id": "vbtTVKc9N8Ac"
      }
    },
    {
      "cell_type": "markdown",
      "source": [
        "**A. Recursive Feature Elimination (RFE):** using Random Forest."
      ],
      "metadata": {
        "id": "7-NV7snrOP1D"
      }
    },
    {
      "cell_type": "code",
      "source": [
        "from sklearn.feature_selection import RFE\n",
        "from sklearn.ensemble import RandomForestRegressor\n",
        "\n",
        "# Recursive Feature Elimination (RFE)\n",
        "rfe_estimator = RandomForestRegressor(random_state=42)\n",
        "rfe = RFE(estimator=rfe_estimator, n_features_to_select=10)\n",
        "rfe.fit(X_train, y_train)\n",
        "\n",
        "# Selected features using RFE\n",
        "selected_features_rfe = X_train.columns[rfe.support_]\n",
        "print(\"Selected Features (RFE):\", selected_features_rfe.tolist())"
      ],
      "metadata": {
        "colab": {
          "base_uri": "https://localhost:8080/",
          "height": 356
        },
        "id": "F0NGFhUtOd6z",
        "outputId": "545e8763-a689-41e8-fdfc-a27a3f4338b7"
      },
      "execution_count": 41,
      "outputs": [
        {
          "output_type": "error",
          "ename": "ValueError",
          "evalue": "could not convert string to float: 'Unknown'",
          "traceback": [
            "\u001b[0;31m---------------------------------------------------------------------------\u001b[0m",
            "\u001b[0;31mValueError\u001b[0m                                Traceback (most recent call last)",
            "\u001b[0;32m<ipython-input-41-8fe219858d5b>\u001b[0m in \u001b[0;36m<cell line: 0>\u001b[0;34m()\u001b[0m\n\u001b[1;32m      5\u001b[0m \u001b[0mrfe_estimator\u001b[0m \u001b[0;34m=\u001b[0m \u001b[0mRandomForestRegressor\u001b[0m\u001b[0;34m(\u001b[0m\u001b[0mrandom_state\u001b[0m\u001b[0;34m=\u001b[0m\u001b[0;36m42\u001b[0m\u001b[0;34m)\u001b[0m\u001b[0;34m\u001b[0m\u001b[0;34m\u001b[0m\u001b[0m\n\u001b[1;32m      6\u001b[0m \u001b[0mrfe\u001b[0m \u001b[0;34m=\u001b[0m \u001b[0mRFE\u001b[0m\u001b[0;34m(\u001b[0m\u001b[0mestimator\u001b[0m\u001b[0;34m=\u001b[0m\u001b[0mrfe_estimator\u001b[0m\u001b[0;34m,\u001b[0m \u001b[0mn_features_to_select\u001b[0m\u001b[0;34m=\u001b[0m\u001b[0;36m10\u001b[0m\u001b[0;34m)\u001b[0m\u001b[0;34m\u001b[0m\u001b[0;34m\u001b[0m\u001b[0m\n\u001b[0;32m----> 7\u001b[0;31m \u001b[0mrfe\u001b[0m\u001b[0;34m.\u001b[0m\u001b[0mfit\u001b[0m\u001b[0;34m(\u001b[0m\u001b[0mX_train\u001b[0m\u001b[0;34m,\u001b[0m \u001b[0my_train\u001b[0m\u001b[0;34m)\u001b[0m\u001b[0;34m\u001b[0m\u001b[0;34m\u001b[0m\u001b[0m\n\u001b[0m\u001b[1;32m      8\u001b[0m \u001b[0;34m\u001b[0m\u001b[0m\n\u001b[1;32m      9\u001b[0m \u001b[0;31m# Selected features using RFE\u001b[0m\u001b[0;34m\u001b[0m\u001b[0;34m\u001b[0m\u001b[0m\n",
            "\u001b[0;32m/usr/local/lib/python3.11/dist-packages/sklearn/base.py\u001b[0m in \u001b[0;36mwrapper\u001b[0;34m(estimator, *args, **kwargs)\u001b[0m\n\u001b[1;32m   1387\u001b[0m                 )\n\u001b[1;32m   1388\u001b[0m             ):\n\u001b[0;32m-> 1389\u001b[0;31m                 \u001b[0;32mreturn\u001b[0m \u001b[0mfit_method\u001b[0m\u001b[0;34m(\u001b[0m\u001b[0mestimator\u001b[0m\u001b[0;34m,\u001b[0m \u001b[0;34m*\u001b[0m\u001b[0margs\u001b[0m\u001b[0;34m,\u001b[0m \u001b[0;34m**\u001b[0m\u001b[0mkwargs\u001b[0m\u001b[0;34m)\u001b[0m\u001b[0;34m\u001b[0m\u001b[0;34m\u001b[0m\u001b[0m\n\u001b[0m\u001b[1;32m   1390\u001b[0m \u001b[0;34m\u001b[0m\u001b[0m\n\u001b[1;32m   1391\u001b[0m         \u001b[0;32mreturn\u001b[0m \u001b[0mwrapper\u001b[0m\u001b[0;34m\u001b[0m\u001b[0;34m\u001b[0m\u001b[0m\n",
            "\u001b[0;32m/usr/local/lib/python3.11/dist-packages/sklearn/feature_selection/_rfe.py\u001b[0m in \u001b[0;36mfit\u001b[0;34m(self, X, y, **fit_params)\u001b[0m\n\u001b[1;32m    274\u001b[0m             \u001b[0mrouted_params\u001b[0m \u001b[0;34m=\u001b[0m \u001b[0mBunch\u001b[0m\u001b[0;34m(\u001b[0m\u001b[0mestimator\u001b[0m\u001b[0;34m=\u001b[0m\u001b[0mBunch\u001b[0m\u001b[0;34m(\u001b[0m\u001b[0mfit\u001b[0m\u001b[0;34m=\u001b[0m\u001b[0mfit_params\u001b[0m\u001b[0;34m)\u001b[0m\u001b[0;34m)\u001b[0m\u001b[0;34m\u001b[0m\u001b[0;34m\u001b[0m\u001b[0m\n\u001b[1;32m    275\u001b[0m \u001b[0;34m\u001b[0m\u001b[0m\n\u001b[0;32m--> 276\u001b[0;31m         \u001b[0;32mreturn\u001b[0m \u001b[0mself\u001b[0m\u001b[0;34m.\u001b[0m\u001b[0m_fit\u001b[0m\u001b[0;34m(\u001b[0m\u001b[0mX\u001b[0m\u001b[0;34m,\u001b[0m \u001b[0my\u001b[0m\u001b[0;34m,\u001b[0m \u001b[0;34m**\u001b[0m\u001b[0mrouted_params\u001b[0m\u001b[0;34m.\u001b[0m\u001b[0mestimator\u001b[0m\u001b[0;34m.\u001b[0m\u001b[0mfit\u001b[0m\u001b[0;34m)\u001b[0m\u001b[0;34m\u001b[0m\u001b[0;34m\u001b[0m\u001b[0m\n\u001b[0m\u001b[1;32m    277\u001b[0m \u001b[0;34m\u001b[0m\u001b[0m\n\u001b[1;32m    278\u001b[0m     \u001b[0;32mdef\u001b[0m \u001b[0m_fit\u001b[0m\u001b[0;34m(\u001b[0m\u001b[0mself\u001b[0m\u001b[0;34m,\u001b[0m \u001b[0mX\u001b[0m\u001b[0;34m,\u001b[0m \u001b[0my\u001b[0m\u001b[0;34m,\u001b[0m \u001b[0mstep_score\u001b[0m\u001b[0;34m=\u001b[0m\u001b[0;32mNone\u001b[0m\u001b[0;34m,\u001b[0m \u001b[0;34m**\u001b[0m\u001b[0mfit_params\u001b[0m\u001b[0;34m)\u001b[0m\u001b[0;34m:\u001b[0m\u001b[0;34m\u001b[0m\u001b[0;34m\u001b[0m\u001b[0m\n",
            "\u001b[0;32m/usr/local/lib/python3.11/dist-packages/sklearn/feature_selection/_rfe.py\u001b[0m in \u001b[0;36m_fit\u001b[0;34m(self, X, y, step_score, **fit_params)\u001b[0m\n\u001b[1;32m    281\u001b[0m         \u001b[0;31m# self.step_scores_ will not be calculated when calling _fit through fit\u001b[0m\u001b[0;34m\u001b[0m\u001b[0;34m\u001b[0m\u001b[0m\n\u001b[1;32m    282\u001b[0m \u001b[0;34m\u001b[0m\u001b[0m\n\u001b[0;32m--> 283\u001b[0;31m         X, y = validate_data(\n\u001b[0m\u001b[1;32m    284\u001b[0m             \u001b[0mself\u001b[0m\u001b[0;34m,\u001b[0m\u001b[0;34m\u001b[0m\u001b[0;34m\u001b[0m\u001b[0m\n\u001b[1;32m    285\u001b[0m             \u001b[0mX\u001b[0m\u001b[0;34m,\u001b[0m\u001b[0;34m\u001b[0m\u001b[0;34m\u001b[0m\u001b[0m\n",
            "\u001b[0;32m/usr/local/lib/python3.11/dist-packages/sklearn/utils/validation.py\u001b[0m in \u001b[0;36mvalidate_data\u001b[0;34m(_estimator, X, y, reset, validate_separately, skip_check_array, **check_params)\u001b[0m\n\u001b[1;32m   2959\u001b[0m             \u001b[0my\u001b[0m \u001b[0;34m=\u001b[0m \u001b[0mcheck_array\u001b[0m\u001b[0;34m(\u001b[0m\u001b[0my\u001b[0m\u001b[0;34m,\u001b[0m \u001b[0minput_name\u001b[0m\u001b[0;34m=\u001b[0m\u001b[0;34m\"y\"\u001b[0m\u001b[0;34m,\u001b[0m \u001b[0;34m**\u001b[0m\u001b[0mcheck_y_params\u001b[0m\u001b[0;34m)\u001b[0m\u001b[0;34m\u001b[0m\u001b[0;34m\u001b[0m\u001b[0m\n\u001b[1;32m   2960\u001b[0m         \u001b[0;32melse\u001b[0m\u001b[0;34m:\u001b[0m\u001b[0;34m\u001b[0m\u001b[0;34m\u001b[0m\u001b[0m\n\u001b[0;32m-> 2961\u001b[0;31m             \u001b[0mX\u001b[0m\u001b[0;34m,\u001b[0m \u001b[0my\u001b[0m \u001b[0;34m=\u001b[0m \u001b[0mcheck_X_y\u001b[0m\u001b[0;34m(\u001b[0m\u001b[0mX\u001b[0m\u001b[0;34m,\u001b[0m \u001b[0my\u001b[0m\u001b[0;34m,\u001b[0m \u001b[0;34m**\u001b[0m\u001b[0mcheck_params\u001b[0m\u001b[0;34m)\u001b[0m\u001b[0;34m\u001b[0m\u001b[0;34m\u001b[0m\u001b[0m\n\u001b[0m\u001b[1;32m   2962\u001b[0m         \u001b[0mout\u001b[0m \u001b[0;34m=\u001b[0m \u001b[0mX\u001b[0m\u001b[0;34m,\u001b[0m \u001b[0my\u001b[0m\u001b[0;34m\u001b[0m\u001b[0;34m\u001b[0m\u001b[0m\n\u001b[1;32m   2963\u001b[0m \u001b[0;34m\u001b[0m\u001b[0m\n",
            "\u001b[0;32m/usr/local/lib/python3.11/dist-packages/sklearn/utils/validation.py\u001b[0m in \u001b[0;36mcheck_X_y\u001b[0;34m(X, y, accept_sparse, accept_large_sparse, dtype, order, copy, force_writeable, force_all_finite, ensure_all_finite, ensure_2d, allow_nd, multi_output, ensure_min_samples, ensure_min_features, y_numeric, estimator)\u001b[0m\n\u001b[1;32m   1368\u001b[0m     \u001b[0mensure_all_finite\u001b[0m \u001b[0;34m=\u001b[0m \u001b[0m_deprecate_force_all_finite\u001b[0m\u001b[0;34m(\u001b[0m\u001b[0mforce_all_finite\u001b[0m\u001b[0;34m,\u001b[0m \u001b[0mensure_all_finite\u001b[0m\u001b[0;34m)\u001b[0m\u001b[0;34m\u001b[0m\u001b[0;34m\u001b[0m\u001b[0m\n\u001b[1;32m   1369\u001b[0m \u001b[0;34m\u001b[0m\u001b[0m\n\u001b[0;32m-> 1370\u001b[0;31m     X = check_array(\n\u001b[0m\u001b[1;32m   1371\u001b[0m         \u001b[0mX\u001b[0m\u001b[0;34m,\u001b[0m\u001b[0;34m\u001b[0m\u001b[0;34m\u001b[0m\u001b[0m\n\u001b[1;32m   1372\u001b[0m         \u001b[0maccept_sparse\u001b[0m\u001b[0;34m=\u001b[0m\u001b[0maccept_sparse\u001b[0m\u001b[0;34m,\u001b[0m\u001b[0;34m\u001b[0m\u001b[0;34m\u001b[0m\u001b[0m\n",
            "\u001b[0;32m/usr/local/lib/python3.11/dist-packages/sklearn/utils/validation.py\u001b[0m in \u001b[0;36mcheck_array\u001b[0;34m(array, accept_sparse, accept_large_sparse, dtype, order, copy, force_writeable, force_all_finite, ensure_all_finite, ensure_non_negative, ensure_2d, allow_nd, ensure_min_samples, ensure_min_features, estimator, input_name)\u001b[0m\n\u001b[1;32m    971\u001b[0m         \u001b[0;31m# Use the original dtype for conversion if dtype is None\u001b[0m\u001b[0;34m\u001b[0m\u001b[0;34m\u001b[0m\u001b[0m\n\u001b[1;32m    972\u001b[0m         \u001b[0mnew_dtype\u001b[0m \u001b[0;34m=\u001b[0m \u001b[0mdtype_orig\u001b[0m \u001b[0;32mif\u001b[0m \u001b[0mdtype\u001b[0m \u001b[0;32mis\u001b[0m \u001b[0;32mNone\u001b[0m \u001b[0;32melse\u001b[0m \u001b[0mdtype\u001b[0m\u001b[0;34m\u001b[0m\u001b[0;34m\u001b[0m\u001b[0m\n\u001b[0;32m--> 973\u001b[0;31m         \u001b[0marray\u001b[0m \u001b[0;34m=\u001b[0m \u001b[0marray\u001b[0m\u001b[0;34m.\u001b[0m\u001b[0mastype\u001b[0m\u001b[0;34m(\u001b[0m\u001b[0mnew_dtype\u001b[0m\u001b[0;34m)\u001b[0m\u001b[0;34m\u001b[0m\u001b[0;34m\u001b[0m\u001b[0m\n\u001b[0m\u001b[1;32m    974\u001b[0m         \u001b[0;31m# Since we converted here, we do not need to convert again later\u001b[0m\u001b[0;34m\u001b[0m\u001b[0;34m\u001b[0m\u001b[0m\n\u001b[1;32m    975\u001b[0m         \u001b[0mdtype\u001b[0m \u001b[0;34m=\u001b[0m \u001b[0;32mNone\u001b[0m\u001b[0;34m\u001b[0m\u001b[0;34m\u001b[0m\u001b[0m\n",
            "\u001b[0;32m/usr/local/lib/python3.11/dist-packages/pandas/core/generic.py\u001b[0m in \u001b[0;36mastype\u001b[0;34m(self, dtype, copy, errors)\u001b[0m\n\u001b[1;32m   6641\u001b[0m         \u001b[0;32melse\u001b[0m\u001b[0;34m:\u001b[0m\u001b[0;34m\u001b[0m\u001b[0;34m\u001b[0m\u001b[0m\n\u001b[1;32m   6642\u001b[0m             \u001b[0;31m# else, only a single dtype is given\u001b[0m\u001b[0;34m\u001b[0m\u001b[0;34m\u001b[0m\u001b[0m\n\u001b[0;32m-> 6643\u001b[0;31m             \u001b[0mnew_data\u001b[0m \u001b[0;34m=\u001b[0m \u001b[0mself\u001b[0m\u001b[0;34m.\u001b[0m\u001b[0m_mgr\u001b[0m\u001b[0;34m.\u001b[0m\u001b[0mastype\u001b[0m\u001b[0;34m(\u001b[0m\u001b[0mdtype\u001b[0m\u001b[0;34m=\u001b[0m\u001b[0mdtype\u001b[0m\u001b[0;34m,\u001b[0m \u001b[0mcopy\u001b[0m\u001b[0;34m=\u001b[0m\u001b[0mcopy\u001b[0m\u001b[0;34m,\u001b[0m \u001b[0merrors\u001b[0m\u001b[0;34m=\u001b[0m\u001b[0merrors\u001b[0m\u001b[0;34m)\u001b[0m\u001b[0;34m\u001b[0m\u001b[0;34m\u001b[0m\u001b[0m\n\u001b[0m\u001b[1;32m   6644\u001b[0m             \u001b[0mres\u001b[0m \u001b[0;34m=\u001b[0m \u001b[0mself\u001b[0m\u001b[0;34m.\u001b[0m\u001b[0m_constructor_from_mgr\u001b[0m\u001b[0;34m(\u001b[0m\u001b[0mnew_data\u001b[0m\u001b[0;34m,\u001b[0m \u001b[0maxes\u001b[0m\u001b[0;34m=\u001b[0m\u001b[0mnew_data\u001b[0m\u001b[0;34m.\u001b[0m\u001b[0maxes\u001b[0m\u001b[0;34m)\u001b[0m\u001b[0;34m\u001b[0m\u001b[0;34m\u001b[0m\u001b[0m\n\u001b[1;32m   6645\u001b[0m             \u001b[0;32mreturn\u001b[0m \u001b[0mres\u001b[0m\u001b[0;34m.\u001b[0m\u001b[0m__finalize__\u001b[0m\u001b[0;34m(\u001b[0m\u001b[0mself\u001b[0m\u001b[0;34m,\u001b[0m \u001b[0mmethod\u001b[0m\u001b[0;34m=\u001b[0m\u001b[0;34m\"astype\"\u001b[0m\u001b[0;34m)\u001b[0m\u001b[0;34m\u001b[0m\u001b[0;34m\u001b[0m\u001b[0m\n",
            "\u001b[0;32m/usr/local/lib/python3.11/dist-packages/pandas/core/internals/managers.py\u001b[0m in \u001b[0;36mastype\u001b[0;34m(self, dtype, copy, errors)\u001b[0m\n\u001b[1;32m    428\u001b[0m             \u001b[0mcopy\u001b[0m \u001b[0;34m=\u001b[0m \u001b[0;32mFalse\u001b[0m\u001b[0;34m\u001b[0m\u001b[0;34m\u001b[0m\u001b[0m\n\u001b[1;32m    429\u001b[0m \u001b[0;34m\u001b[0m\u001b[0m\n\u001b[0;32m--> 430\u001b[0;31m         return self.apply(\n\u001b[0m\u001b[1;32m    431\u001b[0m             \u001b[0;34m\"astype\"\u001b[0m\u001b[0;34m,\u001b[0m\u001b[0;34m\u001b[0m\u001b[0;34m\u001b[0m\u001b[0m\n\u001b[1;32m    432\u001b[0m             \u001b[0mdtype\u001b[0m\u001b[0;34m=\u001b[0m\u001b[0mdtype\u001b[0m\u001b[0;34m,\u001b[0m\u001b[0;34m\u001b[0m\u001b[0;34m\u001b[0m\u001b[0m\n",
            "\u001b[0;32m/usr/local/lib/python3.11/dist-packages/pandas/core/internals/managers.py\u001b[0m in \u001b[0;36mapply\u001b[0;34m(self, f, align_keys, **kwargs)\u001b[0m\n\u001b[1;32m    361\u001b[0m                 \u001b[0mapplied\u001b[0m \u001b[0;34m=\u001b[0m \u001b[0mb\u001b[0m\u001b[0;34m.\u001b[0m\u001b[0mapply\u001b[0m\u001b[0;34m(\u001b[0m\u001b[0mf\u001b[0m\u001b[0;34m,\u001b[0m \u001b[0;34m**\u001b[0m\u001b[0mkwargs\u001b[0m\u001b[0;34m)\u001b[0m\u001b[0;34m\u001b[0m\u001b[0;34m\u001b[0m\u001b[0m\n\u001b[1;32m    362\u001b[0m             \u001b[0;32melse\u001b[0m\u001b[0;34m:\u001b[0m\u001b[0;34m\u001b[0m\u001b[0;34m\u001b[0m\u001b[0m\n\u001b[0;32m--> 363\u001b[0;31m                 \u001b[0mapplied\u001b[0m \u001b[0;34m=\u001b[0m \u001b[0mgetattr\u001b[0m\u001b[0;34m(\u001b[0m\u001b[0mb\u001b[0m\u001b[0;34m,\u001b[0m \u001b[0mf\u001b[0m\u001b[0;34m)\u001b[0m\u001b[0;34m(\u001b[0m\u001b[0;34m**\u001b[0m\u001b[0mkwargs\u001b[0m\u001b[0;34m)\u001b[0m\u001b[0;34m\u001b[0m\u001b[0;34m\u001b[0m\u001b[0m\n\u001b[0m\u001b[1;32m    364\u001b[0m             \u001b[0mresult_blocks\u001b[0m \u001b[0;34m=\u001b[0m \u001b[0mextend_blocks\u001b[0m\u001b[0;34m(\u001b[0m\u001b[0mapplied\u001b[0m\u001b[0;34m,\u001b[0m \u001b[0mresult_blocks\u001b[0m\u001b[0;34m)\u001b[0m\u001b[0;34m\u001b[0m\u001b[0;34m\u001b[0m\u001b[0m\n\u001b[1;32m    365\u001b[0m \u001b[0;34m\u001b[0m\u001b[0m\n",
            "\u001b[0;32m/usr/local/lib/python3.11/dist-packages/pandas/core/internals/blocks.py\u001b[0m in \u001b[0;36mastype\u001b[0;34m(self, dtype, copy, errors, using_cow, squeeze)\u001b[0m\n\u001b[1;32m    756\u001b[0m             \u001b[0mvalues\u001b[0m \u001b[0;34m=\u001b[0m \u001b[0mvalues\u001b[0m\u001b[0;34m[\u001b[0m\u001b[0;36m0\u001b[0m\u001b[0;34m,\u001b[0m \u001b[0;34m:\u001b[0m\u001b[0;34m]\u001b[0m  \u001b[0;31m# type: ignore[call-overload]\u001b[0m\u001b[0;34m\u001b[0m\u001b[0;34m\u001b[0m\u001b[0m\n\u001b[1;32m    757\u001b[0m \u001b[0;34m\u001b[0m\u001b[0m\n\u001b[0;32m--> 758\u001b[0;31m         \u001b[0mnew_values\u001b[0m \u001b[0;34m=\u001b[0m \u001b[0mastype_array_safe\u001b[0m\u001b[0;34m(\u001b[0m\u001b[0mvalues\u001b[0m\u001b[0;34m,\u001b[0m \u001b[0mdtype\u001b[0m\u001b[0;34m,\u001b[0m \u001b[0mcopy\u001b[0m\u001b[0;34m=\u001b[0m\u001b[0mcopy\u001b[0m\u001b[0;34m,\u001b[0m \u001b[0merrors\u001b[0m\u001b[0;34m=\u001b[0m\u001b[0merrors\u001b[0m\u001b[0;34m)\u001b[0m\u001b[0;34m\u001b[0m\u001b[0;34m\u001b[0m\u001b[0m\n\u001b[0m\u001b[1;32m    759\u001b[0m \u001b[0;34m\u001b[0m\u001b[0m\n\u001b[1;32m    760\u001b[0m         \u001b[0mnew_values\u001b[0m \u001b[0;34m=\u001b[0m \u001b[0mmaybe_coerce_values\u001b[0m\u001b[0;34m(\u001b[0m\u001b[0mnew_values\u001b[0m\u001b[0;34m)\u001b[0m\u001b[0;34m\u001b[0m\u001b[0;34m\u001b[0m\u001b[0m\n",
            "\u001b[0;32m/usr/local/lib/python3.11/dist-packages/pandas/core/dtypes/astype.py\u001b[0m in \u001b[0;36mastype_array_safe\u001b[0;34m(values, dtype, copy, errors)\u001b[0m\n\u001b[1;32m    235\u001b[0m \u001b[0;34m\u001b[0m\u001b[0m\n\u001b[1;32m    236\u001b[0m     \u001b[0;32mtry\u001b[0m\u001b[0;34m:\u001b[0m\u001b[0;34m\u001b[0m\u001b[0;34m\u001b[0m\u001b[0m\n\u001b[0;32m--> 237\u001b[0;31m         \u001b[0mnew_values\u001b[0m \u001b[0;34m=\u001b[0m \u001b[0mastype_array\u001b[0m\u001b[0;34m(\u001b[0m\u001b[0mvalues\u001b[0m\u001b[0;34m,\u001b[0m \u001b[0mdtype\u001b[0m\u001b[0;34m,\u001b[0m \u001b[0mcopy\u001b[0m\u001b[0;34m=\u001b[0m\u001b[0mcopy\u001b[0m\u001b[0;34m)\u001b[0m\u001b[0;34m\u001b[0m\u001b[0;34m\u001b[0m\u001b[0m\n\u001b[0m\u001b[1;32m    238\u001b[0m     \u001b[0;32mexcept\u001b[0m \u001b[0;34m(\u001b[0m\u001b[0mValueError\u001b[0m\u001b[0;34m,\u001b[0m \u001b[0mTypeError\u001b[0m\u001b[0;34m)\u001b[0m\u001b[0;34m:\u001b[0m\u001b[0;34m\u001b[0m\u001b[0;34m\u001b[0m\u001b[0m\n\u001b[1;32m    239\u001b[0m         \u001b[0;31m# e.g. _astype_nansafe can fail on object-dtype of strings\u001b[0m\u001b[0;34m\u001b[0m\u001b[0;34m\u001b[0m\u001b[0m\n",
            "\u001b[0;32m/usr/local/lib/python3.11/dist-packages/pandas/core/dtypes/astype.py\u001b[0m in \u001b[0;36mastype_array\u001b[0;34m(values, dtype, copy)\u001b[0m\n\u001b[1;32m    180\u001b[0m \u001b[0;34m\u001b[0m\u001b[0m\n\u001b[1;32m    181\u001b[0m     \u001b[0;32melse\u001b[0m\u001b[0;34m:\u001b[0m\u001b[0;34m\u001b[0m\u001b[0;34m\u001b[0m\u001b[0m\n\u001b[0;32m--> 182\u001b[0;31m         \u001b[0mvalues\u001b[0m \u001b[0;34m=\u001b[0m \u001b[0m_astype_nansafe\u001b[0m\u001b[0;34m(\u001b[0m\u001b[0mvalues\u001b[0m\u001b[0;34m,\u001b[0m \u001b[0mdtype\u001b[0m\u001b[0;34m,\u001b[0m \u001b[0mcopy\u001b[0m\u001b[0;34m=\u001b[0m\u001b[0mcopy\u001b[0m\u001b[0;34m)\u001b[0m\u001b[0;34m\u001b[0m\u001b[0;34m\u001b[0m\u001b[0m\n\u001b[0m\u001b[1;32m    183\u001b[0m \u001b[0;34m\u001b[0m\u001b[0m\n\u001b[1;32m    184\u001b[0m     \u001b[0;31m# in pandas we don't store numpy str dtypes, so convert to object\u001b[0m\u001b[0;34m\u001b[0m\u001b[0;34m\u001b[0m\u001b[0m\n",
            "\u001b[0;32m/usr/local/lib/python3.11/dist-packages/pandas/core/dtypes/astype.py\u001b[0m in \u001b[0;36m_astype_nansafe\u001b[0;34m(arr, dtype, copy, skipna)\u001b[0m\n\u001b[1;32m    131\u001b[0m     \u001b[0;32mif\u001b[0m \u001b[0mcopy\u001b[0m \u001b[0;32mor\u001b[0m \u001b[0marr\u001b[0m\u001b[0;34m.\u001b[0m\u001b[0mdtype\u001b[0m \u001b[0;34m==\u001b[0m \u001b[0mobject\u001b[0m \u001b[0;32mor\u001b[0m \u001b[0mdtype\u001b[0m \u001b[0;34m==\u001b[0m \u001b[0mobject\u001b[0m\u001b[0;34m:\u001b[0m\u001b[0;34m\u001b[0m\u001b[0;34m\u001b[0m\u001b[0m\n\u001b[1;32m    132\u001b[0m         \u001b[0;31m# Explicit copy, or required since NumPy can't view from / to object.\u001b[0m\u001b[0;34m\u001b[0m\u001b[0;34m\u001b[0m\u001b[0m\n\u001b[0;32m--> 133\u001b[0;31m         \u001b[0;32mreturn\u001b[0m \u001b[0marr\u001b[0m\u001b[0;34m.\u001b[0m\u001b[0mastype\u001b[0m\u001b[0;34m(\u001b[0m\u001b[0mdtype\u001b[0m\u001b[0;34m,\u001b[0m \u001b[0mcopy\u001b[0m\u001b[0;34m=\u001b[0m\u001b[0;32mTrue\u001b[0m\u001b[0;34m)\u001b[0m\u001b[0;34m\u001b[0m\u001b[0;34m\u001b[0m\u001b[0m\n\u001b[0m\u001b[1;32m    134\u001b[0m \u001b[0;34m\u001b[0m\u001b[0m\n\u001b[1;32m    135\u001b[0m     \u001b[0;32mreturn\u001b[0m \u001b[0marr\u001b[0m\u001b[0;34m.\u001b[0m\u001b[0mastype\u001b[0m\u001b[0;34m(\u001b[0m\u001b[0mdtype\u001b[0m\u001b[0;34m,\u001b[0m \u001b[0mcopy\u001b[0m\u001b[0;34m=\u001b[0m\u001b[0mcopy\u001b[0m\u001b[0;34m)\u001b[0m\u001b[0;34m\u001b[0m\u001b[0;34m\u001b[0m\u001b[0m\n",
            "\u001b[0;31mValueError\u001b[0m: could not convert string to float: 'Unknown'"
          ]
        }
      ]
    },
    {
      "cell_type": "markdown",
      "source": [
        "**C. Mutual Information:**\n",
        "\n",
        "to rank features based on their dependency with the target variable."
      ],
      "metadata": {
        "id": "QEd5NmgYQkqk"
      }
    },
    {
      "cell_type": "code",
      "source": [
        "# Mutual Information\n",
        "from sklearn.feature_selection import mutual_info_regression\n",
        "\n",
        "mutual_info = mutual_info_regression(X_train, y_train)\n",
        "mutual_info_series = pd.Series(mutual_info, index=X_train.columns).sort_values(ascending=False)\n",
        "\n",
        "# Visualize mutual information\n",
        "plt.figure(figsize=(10, 6))\n",
        "mutual_info_series.plot(kind='bar', color='skyblue')\n",
        "plt.title(\"Feature Importance (Mutual Information)\")\n",
        "plt.ylabel(\"Score\")\n",
        "plt.show()"
      ],
      "metadata": {
        "id": "v-o7i661QjgE"
      },
      "execution_count": null,
      "outputs": []
    },
    {
      "cell_type": "markdown",
      "source": [
        "# **3. Tree Ensembles**"
      ],
      "metadata": {
        "id": "PqkqzNkLRGwU"
      }
    },
    {
      "cell_type": "markdown",
      "source": [
        "***In Tree Ensembles***\n",
        "\n",
        "We will train and evaluate the following models:\n",
        "\n",
        "A. **Random Forest**.\n",
        "\n",
        "B. **XGBoost**.\n",
        "\n",
        "We will use **RandomizedSearchCV** for hyperparameter tuning for both models."
      ],
      "metadata": {
        "id": "6Sg5L9YLSg3l"
      }
    },
    {
      "cell_type": "markdown",
      "source": [
        "## **3.1 Models Training**"
      ],
      "metadata": {
        "id": "yHQQ0AkrXOJF"
      }
    },
    {
      "cell_type": "markdown",
      "source": [
        "***Random Forest with RandomizedSearchCV***"
      ],
      "metadata": {
        "id": "qyYsm8HESwgY"
      }
    },
    {
      "cell_type": "code",
      "source": [
        "from sklearn.ensemble import RandomForestRegressor\n",
        "from sklearn.model_selection import RandomizedSearchCV\n",
        "from scipy.stats import randint\n",
        "\n",
        "# Define parameter grid for Random Forest\n",
        "rf_param_grid = {\n",
        "    'n_estimators': randint(100, 500),  # Number of trees\n",
        "    'max_depth': randint(5, 20),        # Maximum depth of the tree\n",
        "    'min_samples_split': randint(2, 10),  # Minimum number of samples to split\n",
        "    'min_samples_leaf': randint(1, 5),  # Minimum number of samples per leaf\n",
        "}\n",
        "\n",
        "# RandomizedSearchCV for Random Forest\n",
        "rf = RandomForestRegressor(random_state=42)\n",
        "rf_random_search = RandomizedSearchCV(\n",
        "    estimator=rf,\n",
        "    param_distributions=rf_param_grid,\n",
        "    n_iter=50,  # Number of parameter settings sampled\n",
        "    scoring='r2',\n",
        "    cv=3,       # 3-fold cross-validation\n",
        "    random_state=42,\n",
        "    n_jobs=-1\n",
        ")\n",
        "rf_random_search.fit(X_train, y_train)\n",
        "\n",
        "# Best parameters and score for Random Forest\n",
        "print(\"Best Parameters (Random Forest):\", rf_random_search.best_params_)\n",
        "print(\"Best Validation R2 Score (Random Forest):\", rf_random_search.best_score_)\n",
        "\n",
        "# Evaluate on validation set\n",
        "rf_best_model = rf_random_search.best_estimator_\n",
        "rf_val_pred = rf_best_model.predict(X_val)\n",
        "print(\"Random Forest R2 Score (Validation):\", r2_score(y_val, rf_val_pred))"
      ],
      "metadata": {
        "id": "RaUoV2xJRK0O"
      },
      "execution_count": null,
      "outputs": []
    },
    {
      "cell_type": "markdown",
      "source": [
        "***XGBoost with RandomizedSearchCV***"
      ],
      "metadata": {
        "id": "_s7E9PKUS_Vb"
      }
    },
    {
      "cell_type": "code",
      "source": [
        "from xgboost import XGBRegressor\n",
        "from sklearn.model_selection import RandomizedSearchCV\n",
        "\n",
        "# Define parameter grid for XGBoost\n",
        "xgb_param_grid = {\n",
        "    'n_estimators': randint(100, 500),       # Number of boosting rounds\n",
        "    'learning_rate': [0.01, 0.05, 0.1, 0.2], # Learning rate\n",
        "    'max_depth': randint(3, 15),             # Maximum depth of a tree\n",
        "    'subsample': [0.6, 0.8, 1.0],            # Subsample ratio of the training data\n",
        "    'colsample_bytree': [0.6, 0.8, 1.0],     # Subsample ratio of columns\n",
        "}\n",
        "\n",
        "# RandomizedSearchCV for XGBoost\n",
        "xgb = XGBRegressor(random_state=42)\n",
        "xgb_random_search = RandomizedSearchCV(\n",
        "    estimator=xgb,\n",
        "    param_distributions=xgb_param_grid,\n",
        "    n_iter=50,  # Number of parameter settings sampled\n",
        "    scoring='r2',\n",
        "    cv=3,       # 3-fold cross-validation\n",
        "    random_state=42,\n",
        "    n_jobs=-1\n",
        ")\n",
        "xgb_random_search.fit(X_train, y_train)\n",
        "\n",
        "# Best parameters and score for XGBoost\n",
        "print(\"Best Parameters (XGBoost):\", xgb_random_search.best_params_)\n",
        "print(\"Best Validation R2 Score (XGBoost):\", xgb_random_search.best_score_)\n",
        "\n",
        "# Evaluate on validation set\n",
        "xgb_best_model = xgb_random_search.best_estimator_\n",
        "xgb_val_pred = xgb_best_model.predict(X_val)\n",
        "print(\"XGBoost R2 Score (Validation):\", r2_score(y_val, xgb_val_pred))"
      ],
      "metadata": {
        "id": "GHUsQ5lKTCMd"
      },
      "execution_count": null,
      "outputs": []
    },
    {
      "cell_type": "markdown",
      "source": [
        "***Compare Model Performances***"
      ],
      "metadata": {
        "id": "iN7Tib8XV65P"
      }
    },
    {
      "cell_type": "code",
      "source": [
        "# Compare R2 scores from Random Forest and XGBoost\n",
        "print(\"Random Forest R2 Score (Validation):\", r2_score(y_val, rf_val_pred))\n",
        "print(\"XGBoost R2 Score (Validation):\", r2_score(y_val, xgb_val_pred))\n",
        "\n",
        "# Visualize predictions\n",
        "plt.figure(figsize=(10, 6))\n",
        "plt.scatter(y_val, rf_val_pred, label='Random Forest Predictions', alpha=0.6)\n",
        "plt.scatter(y_val, xgb_val_pred, label='XGBoost Predictions', alpha=0.6)\n",
        "plt.plot([y_val.min(), y_val.max()], [y_val.min(), y_val.max()], 'k--', lw=2, label='Ideal Predictions')\n",
        "plt.xlabel('True Values')\n",
        "plt.ylabel('Predicted Values')\n",
        "plt.legend()\n",
        "plt.title('Model Predictions vs. True Values')\n",
        "plt.show()"
      ],
      "metadata": {
        "id": "ka-UysG2TEQv"
      },
      "execution_count": null,
      "outputs": []
    },
    {
      "cell_type": "markdown",
      "source": [
        "## **3.2 Stacking Ensemble Model**\n",
        "We will create a **Stacking Regressor** that combines the predictions of:\n",
        "1. **Random Forest** (with the best parameters from RandomizedSearchCV).\n",
        "2. **XGBoost** (with the best parameters from RandomizedSearchCV).\n",
        "\n",
        "The meta-model will be a **Linear Regression** model that combines the outputs from the two base models."
      ],
      "metadata": {
        "id": "95xVosYIYtXD"
      }
    },
    {
      "cell_type": "code",
      "source": [
        "from sklearn.ensemble import StackingRegressor\n",
        "from sklearn.linear_model import LinearRegression\n",
        "\n",
        "# Stacking Regressor\n",
        "stacking_model = StackingRegressor(\n",
        "    estimators=[\n",
        "        ('rf', rf_random_search.best_estimator_),  # Random Forest with best parameters\n",
        "        ('xgb', xgb_random_search.best_estimator_)  # XGBoost with best parameters\n",
        "    ],\n",
        "    final_estimator=LinearRegression()  # Meta-model: Linear Regression\n",
        ")\n",
        "\n",
        "# Train the Stacking Model\n",
        "stacking_model.fit(X_train, y_train)\n",
        "\n",
        "# Evaluate Stacking Model on Validation Set\n",
        "stack_pred = stacking_model.predict(X_val)\n",
        "\n",
        "# Compute R2 Score\n",
        "stacking_r2 = r2_score(y_val, stack_pred)\n",
        "print(\"Stacking Model R2 Score (Validation):\", stacking_r2)"
      ],
      "metadata": {
        "id": "-LAA5XFPYymv"
      },
      "execution_count": null,
      "outputs": []
    },
    {
      "cell_type": "code",
      "source": [
        "# Compare R2 scores from Random Forest, XGBoost, and Stacking Model\n",
        "print(\"Random Forest R2 Score (Validation):\", r2_score(y_val, rf_val_pred))\n",
        "print(\"XGBoost R2 Score (Validation):\", r2_score(y_val, xgb_val_pred))\n",
        "print(\"Stacking Model R2 Score (Validation):\", stacking_r2)\n",
        "\n",
        "# Visualize predictions\n",
        "plt.figure(figsize=(10, 6))\n",
        "plt.scatter(y_val, rf_val_pred, label='Random Forest Predictions', alpha=0.6)\n",
        "plt.scatter(y_val, xgb_val_pred, label='XGBoost Predictions', alpha=0.6)\n",
        "plt.scatter(y_val, stack_pred, label='Stacking Model Predictions', alpha=0.6, marker='x')\n",
        "plt.plot([y_val.min(), y_val.max()], [y_val.min(), y_val.max()], 'k--', lw=2, label='Ideal Predictions')\n",
        "plt.xlabel('True Values')\n",
        "plt.ylabel('Predicted Values')\n",
        "plt.legend()\n",
        "plt.title('Model Predictions vs. True Values')\n",
        "plt.show()"
      ],
      "metadata": {
        "id": "fufUp9I9aFZ7"
      },
      "execution_count": null,
      "outputs": []
    },
    {
      "cell_type": "markdown",
      "source": [
        "# **3.3 Evaluation of model**"
      ],
      "metadata": {
        "id": "9t6Lpq4iWkFi"
      }
    },
    {
      "cell_type": "markdown",
      "source": [
        "***Metrics Evaluation***"
      ],
      "metadata": {
        "id": "jXyJENsKXIBC"
      }
    },
    {
      "cell_type": "code",
      "source": [
        "# Random Forest Evaluation\n",
        "rf_val_pred = rf_best_model.predict(X_val)\n",
        "rf_r2, rf_mse, rf_mae = evaluate_model(\"Random Forest\", y_val, rf_val_pred)\n",
        "\n",
        "# XGBoost Evaluation\n",
        "xgb_val_pred = xgb_best_model.predict(X_val)\n",
        "xgb_r2, xgb_mse, xgb_mae = evaluate_model(\"XGBoost\", y_val, xgb_val_pred)\n",
        "\n",
        "# Stacking Model Evaluation\n",
        "stack_pred = stacking_model.predict(X_val)\n",
        "stack_r2, stack_mse, stack_mae = evaluate_model(\"Stacking Model\", y_val, stack_pred)"
      ],
      "metadata": {
        "id": "3bB1qmBsXgQP"
      },
      "execution_count": null,
      "outputs": []
    },
    {
      "cell_type": "markdown",
      "source": [
        "***Visualization: True vs. Predicted Values***"
      ],
      "metadata": {
        "id": "ZOOIgaokXpnf"
      }
    },
    {
      "cell_type": "code",
      "source": [
        "# Scatter plot of true vs predicted values for all models\n",
        "plt.figure(figsize=(10, 6))\n",
        "plt.scatter(y_val, rf_val_pred, label='Random Forest', alpha=0.6, color='blue')\n",
        "plt.scatter(y_val, xgb_val_pred, label='XGBoost', alpha=0.6, color='green')\n",
        "plt.scatter(y_val, stack_pred, label='Stacking Model', alpha=0.6, color='orange')\n",
        "plt.plot([y_val.min(), y_val.max()], [y_val.min(), y_val.max()], 'k--', lw=2, label='Ideal Line')\n",
        "plt.xlabel('True Values')\n",
        "plt.ylabel('Predicted Values')\n",
        "plt.legend()\n",
        "plt.title('True vs Predicted Values (Validation Set)')\n",
        "plt.show()"
      ],
      "metadata": {
        "id": "NUhqKF6nXsNP"
      },
      "execution_count": null,
      "outputs": []
    },
    {
      "cell_type": "markdown",
      "source": [
        "# **4. Feature Importance**"
      ],
      "metadata": {
        "id": "_VYSfl2wZnUR"
      }
    },
    {
      "cell_type": "markdown",
      "source": [
        "We will calculate feature importance using the following methods:\n",
        "1. **Random Forest Feature Importance**: Extract feature importance directly from the trained Random Forest model.\n",
        "2. **Permutation Importance**: Evaluate the change in model performance when a feature is randomly shuffled.\n",
        "3. **SHAP (SHapley Additive exPlanations)**: Use SHAP to interpret the model's predictions and provide visual explanations.\n",
        "\n",
        "We will:\n",
        "- Identify the most significant features.\n",
        "- Visualize the results using plots (SHAP summary and force plots).\n",
        "- Provide interpretations for the results."
      ],
      "metadata": {
        "id": "o79yw3t2a5Md"
      }
    },
    {
      "cell_type": "markdown",
      "source": [
        "***A. Random Forest Feature Importance***"
      ],
      "metadata": {
        "id": "e8dZ76aPa6Mh"
      }
    },
    {
      "cell_type": "code",
      "source": [
        "# Random Forest Feature Importance\n",
        "rf_feature_importance = rf_random_search.best_estimator_.feature_importances_\n",
        "rf_feature_importance_series = pd.Series(rf_feature_importance, index=X_train.columns).sort_values(ascending=False)\n",
        "\n",
        "# Visualize Feature Importance\n",
        "plt.figure(figsize=(10, 6))\n",
        "rf_feature_importance_series.plot(kind='bar', color='lightgreen')\n",
        "plt.title(\"Feature Importance (Random Forest)\")\n",
        "plt.ylabel(\"Importance Score\")\n",
        "plt.xlabel(\"Features\")\n",
        "plt.show()\n",
        "\n",
        "# Print the most important features\n",
        "print(\"Top 5 Features (Random Forest):\")\n",
        "print(rf_feature_importance_series.head())"
      ],
      "metadata": {
        "id": "_YfiktaPdJiC"
      },
      "execution_count": null,
      "outputs": []
    },
    {
      "cell_type": "markdown",
      "source": [
        "***B. Permutation Importance***"
      ],
      "metadata": {
        "id": "aK-TWsECdRyQ"
      }
    },
    {
      "cell_type": "code",
      "source": [
        "from sklearn.inspection import permutation_importance\n",
        "\n",
        "# Permutation Importance for the Random Forest model\n",
        "permutation_result = permutation_importance(\n",
        "    rf_random_search.best_estimator_, X_val, y_val, n_repeats=10, random_state=42, scoring='r2'\n",
        ")\n",
        "\n",
        "# Convert results to a pandas Series for visualization\n",
        "permutation_importance_series = pd.Series(\n",
        "    permutation_result.importances_mean, index=X_val.columns\n",
        ").sort_values(ascending=False)\n",
        "\n",
        "# Visualize Permutation Importance\n",
        "plt.figure(figsize=(10, 6))\n",
        "permutation_importance_series.plot(kind='bar', color='coral')\n",
        "plt.title(\"Permutation Importance (Random Forest)\")\n",
        "plt.ylabel(\"Importance Score\")\n",
        "plt.xlabel(\"Features\")\n",
        "plt.show()\n",
        "\n",
        "# Print the most important features\n",
        "print(\"Top 5 Features (Permutation Importance):\")\n",
        "print(permutation_importance_series.head())"
      ],
      "metadata": {
        "id": "KzzzmsqidWfH"
      },
      "execution_count": null,
      "outputs": []
    },
    {
      "cell_type": "markdown",
      "source": [
        "***Shap for key Feature***"
      ],
      "metadata": {
        "id": "dtdK1Q8ZoOU5"
      }
    },
    {
      "cell_type": "code",
      "source": [
        "# # Ensure X is numeric\n",
        "# X_train_numeric = X_train.astype('float64')\n",
        "# X_test_numeric = X_test.astype('float64')\n",
        "\n",
        "# # Create a SHAP explainer (for tree-based models, use TreeExplainer)\n",
        "# explainer = shap.Explainer(model, X_train_numeric)\n",
        "# shap_values = explainer(X_test_numeric)\n",
        "\n",
        "# # Pick a feature name to explain\n",
        "# feature_to_plot = 'mileage'\n",
        "# # SHAP dependence plot\n",
        "# shap.dependence_plot(feature_to_plot, shap_values.values, X_test_numeric"
      ],
      "metadata": {
        "id": "KCeEr4fBoESn"
      },
      "execution_count": null,
      "outputs": []
    },
    {
      "cell_type": "markdown",
      "source": [
        "***C. SHAP (SHapley Additive exPlanations)***"
      ],
      "metadata": {
        "id": "6iyZq5sxddp0"
      }
    },
    {
      "cell_type": "code",
      "source": [
        "import shap\n",
        "\n",
        "# Create a SHAP explainer for the Random Forest model\n",
        "shap_explainer = shap.TreeExplainer(rf_random_search.best_estimator_)\n",
        "shap_values = shap_explainer.shap_values(X_val)\n",
        "\n",
        "# SHAP Summary Plot\n",
        "shap.summary_plot(shap_values, X_val)"
      ],
      "metadata": {
        "id": "vSHe1wt-df5e"
      },
      "execution_count": null,
      "outputs": []
    },
    {
      "cell_type": "markdown",
      "source": [
        "***D. SHAP Force Plot for a Single Prediction***"
      ],
      "metadata": {
        "id": "bmALqRTLdjAH"
      }
    },
    {
      "cell_type": "code",
      "source": [
        "import shap\n",
        "\n",
        "# Initialize SHAP JavaScript visualizations\n",
        "shap.initjs()\n",
        "\n",
        "# SHAP Force Plot for a single prediction\n",
        "sample_index = 0  # Select the first sample from the validation set\n",
        "shap.force_plot(\n",
        "    base_value=shap_explainer.expected_value,  # Baseline value\n",
        "    shap_values=shap_values[sample_index],     # SHAP values for the sample\n",
        "    features=X_val.iloc[sample_index]          # Feature values for the sample\n",
        ")"
      ],
      "metadata": {
        "id": "MLMhRPvRdkX9"
      },
      "execution_count": null,
      "outputs": []
    },
    {
      "cell_type": "markdown",
      "source": [
        "# **Interpretation of Results**\n",
        "1. **Random Forest Feature Importance**:\n",
        "   - The most important features identified by Random Forest are:\n",
        "     - [List top features from Random Forest feature importance output].\n",
        "   - These features play a significant role in predicting the target variable (`price`).\n",
        "\n",
        "2. **Permutation Importance**:\n",
        "   - The permutation importance confirms the significance of the top features identified by Random Forest.\n",
        "   - Features with high permutation importance indicate that shuffling their values significantly reduces the model's performance.\n",
        "\n",
        "3. **SHAP Values**:\n",
        "   - SHAP provides a detailed explanation of how each feature contributes to individual predictions.\n",
        "   - The **SHAP Summary Plot** shows the impact of each feature across the dataset.\n",
        "   - The **SHAP Force Plot** explains the contribution of features for a specific prediction.\n",
        "\n",
        "By combining these methods, we gain a comprehensive understanding of feature importance and their impact on the model's predictions."
      ],
      "metadata": {
        "id": "SFonMYkVdzxx"
      }
    },
    {
      "cell_type": "markdown",
      "source": [
        "# **6. SHAP/PDP Model Explanations (10%)**"
      ],
      "metadata": {
        "id": "A0HaiTLrjSON"
      }
    },
    {
      "cell_type": "markdown",
      "source": [
        "We will use:\n",
        "1. **SHAP Values** to explain individual predictions.\n",
        "2. **Partial Dependence Plots (PDPs)** to show how features influence the target variable.\n",
        "\n",
        "This will help us interpret the model's predictions and provide actionable insights."
      ],
      "metadata": {
        "id": "WunjDQFpjUtz"
      }
    },
    {
      "cell_type": "markdown",
      "source": [
        "***A. SHAP Values for Individual Predictions***"
      ],
      "metadata": {
        "id": "rc-Tkmr8jV_k"
      }
    },
    {
      "cell_type": "code",
      "source": [
        "import shap\n",
        "from IPython.display import HTML\n",
        "\n",
        "# Initialize SHAP JavaScript visualization\n",
        "shap.initjs()\n",
        "\n",
        "# Create a SHAP explainer for the Random Forest model\n",
        "shap_explainer = shap.TreeExplainer(rf_random_search.best_estimator_)\n",
        "shap_values = shap_explainer.shap_values(X_val)\n",
        "\n",
        "# Generate SHAP Force Plot for a single prediction\n",
        "sample_index = 0  # Select the first sample from the validation set\n",
        "force_plot = shap.force_plot(\n",
        "    base_value=shap_explainer.expected_value,  # Baseline value\n",
        "    shap_values=shap_values[sample_index],     # SHAP values for the sample\n",
        "    features=X_val.iloc[sample_index]          # Feature values for the sample\n",
        ")\n",
        "\n",
        "# Render the force plot (for Google Colab)\n",
        "HTML(force_plot.html())"
      ],
      "metadata": {
        "id": "3c3qMSryjaAL"
      },
      "execution_count": null,
      "outputs": []
    },
    {
      "cell_type": "markdown",
      "source": [
        "***B. SHAP Summary Plot***"
      ],
      "metadata": {
        "id": "7q4PsBetjeZz"
      }
    },
    {
      "cell_type": "code",
      "source": [
        "# Generate SHAP Summary Plot for the entire validation set\n",
        "shap.summary_plot(shap_values, X_val)"
      ],
      "metadata": {
        "id": "ixYw3yfsjjNH"
      },
      "execution_count": null,
      "outputs": []
    },
    {
      "cell_type": "markdown",
      "source": [
        "***C. Partial Dependence Plots (PDP)***"
      ],
      "metadata": {
        "id": "PEtkJiNsjl_A"
      }
    },
    {
      "cell_type": "code",
      "source": [
        "from sklearn.inspection import PartialDependenceDisplay\n",
        "\n",
        "# Generate PDP for a single feature, e.g., 'mileage'\n",
        "PartialDependenceDisplay.from_estimator(\n",
        "    rf_random_search.best_estimator_, X_val, ['mileage']\n",
        ")\n",
        "plt.title(\"Partial Dependence Plot for Mileage\")\n",
        "plt.show()\n",
        "\n",
        "# Generate PDP for multiple features, e.g., ['mileage', 'car_age']\n",
        "PartialDependenceDisplay.from_estimator(\n",
        "    rf_random_search.best_estimator_, X_val, ['mileage', 'car_age']\n",
        ")\n",
        "plt.title(\"Partial Dependence Plot for Mileage and Car Age\")\n",
        "plt.show()"
      ],
      "metadata": {
        "id": "wMlxUtu8jply"
      },
      "execution_count": null,
      "outputs": []
    },
    {
      "cell_type": "markdown",
      "source": [
        "# **Interpretation of Results**\n",
        "\n",
        "1. **SHAP Values**:\n",
        "   - The **SHAP Force Plot** explains individual predictions by showing the contribution of each feature to the final prediction.\n",
        "   - The **SHAP Summary Plot** provides a global view of feature importance and their impact on model predictions across the dataset.\n",
        "\n",
        "2. **Partial Dependence Plots (PDPs)**:\n",
        "   - PDPs show the relationship between specific features (e.g., `mileage`, `car_age`) and the target variable (`price`) while holding other features constant.\n",
        "   - These plots help us understand how changes in individual features influence the model's predictions.\n",
        "\n",
        "3. **Actionable Insights**:\n",
        "   - From SHAP and PDPs, we can identify key drivers of price predictions and focus on optimizing these features for better model performance.\n",
        "   - For example:\n",
        "     - If `mileage` has a significant negative impact on price, sellers might highlight low-mileage vehicles to improve sales.\n",
        "     - If `car_age` has a strong effect, educating buyers about the value of newer vehicles may help optimize pricing strategies."
      ],
      "metadata": {
        "id": "A87BLUU0jvon"
      }
    },
    {
      "cell_type": "markdown",
      "source": [
        "# **7. Dimensionality Reduction (Linear)**"
      ],
      "metadata": {
        "id": "Yn5vy0M8j0B2"
      }
    },
    {
      "cell_type": "markdown",
      "source": [
        "**Objective**\n",
        "1. Apply **Principal Component Analysis (PCA)** to reduce the dimensionality of the dataset.\n",
        "2. Analyze the variance explained by each principal component.\n",
        "3. Visualize the results:\n",
        "   - Scree plot showing the explained variance.\n",
        "   - Scatter plot of the data in the reduced dimension.\n",
        "   - **Biplot** to visualize feature contributions to principal components.\n",
        "\n",
        "---"
      ],
      "metadata": {
        "id": "Q_ugYvPhoZIc"
      }
    },
    {
      "cell_type": "markdown",
      "source": [
        "## ***7.1 Apply Principal Component Analysis (PCA)***"
      ],
      "metadata": {
        "id": "F5T3-2qcodB3"
      }
    },
    {
      "cell_type": "code",
      "source": [
        "from sklearn.decomposition import PCA\n",
        "import numpy as np\n",
        "import matplotlib.pyplot as plt\n",
        "import seaborn as sns\n",
        "\n",
        "# Standardize the features before applying PCA\n",
        "from sklearn.preprocessing import StandardScaler\n",
        "scaler = StandardScaler()\n",
        "X_scaled = scaler.fit_transform(X_train)  # Fit and transform on training data\n",
        "\n",
        "# Apply PCA\n",
        "pca = PCA()  # Initialize PCA\n",
        "X_pca = pca.fit_transform(X_scaled)  # Fit PCA and transform the data\n",
        "\n",
        "# Variance explained by each principal component\n",
        "explained_variance_ratio = pca.explained_variance_ratio_\n",
        "print(\"Explained Variance Ratio:\", explained_variance_ratio)"
      ],
      "metadata": {
        "id": "SHN6Nn_ioah5"
      },
      "execution_count": null,
      "outputs": []
    },
    {
      "cell_type": "markdown",
      "source": [
        "## ***7.2 Visualize the Results***"
      ],
      "metadata": {
        "id": "9LLZfYfbonhu"
      }
    },
    {
      "cell_type": "markdown",
      "source": [
        "***A. Scree Plot of Explained Variance***"
      ],
      "metadata": {
        "id": "BhbAxroLoq3E"
      }
    },
    {
      "cell_type": "code",
      "source": [
        "# Scree Plot\n",
        "plt.figure(figsize=(10, 6))\n",
        "plt.plot(\n",
        "    np.cumsum(explained_variance_ratio),\n",
        "    marker='o', linestyle='--', color='b', label='Cumulative Explained Variance'\n",
        ")\n",
        "plt.bar(range(1, len(explained_variance_ratio) + 1), explained_variance_ratio, alpha=0.6, label='Individual Explained Variance')\n",
        "plt.title('Explained Variance by Principal Components')\n",
        "plt.xlabel('Principal Components')\n",
        "plt.ylabel('Explained Variance Ratio')\n",
        "plt.legend()\n",
        "plt.grid(True)\n",
        "plt.show()"
      ],
      "metadata": {
        "id": "Aa3JBgR9oupJ"
      },
      "execution_count": null,
      "outputs": []
    },
    {
      "cell_type": "markdown",
      "source": [
        "***B. Scatter Plot: Data in Reduced Dimensions***"
      ],
      "metadata": {
        "id": "NlsdMoqIowqA"
      }
    },
    {
      "cell_type": "code",
      "source": [
        "# Scatter plot using the first two principal components\n",
        "plt.figure(figsize=(8, 6))\n",
        "plt.scatter(X_pca[:, 0], X_pca[:, 1], alpha=0.7, c=y_train, cmap='viridis')\n",
        "plt.title('Data in Reduced Dimensions (First Two Principal Components)')\n",
        "plt.xlabel('Principal Component 1')\n",
        "plt.ylabel('Principal Component 2')\n",
        "plt.colorbar(label='Target Variable')\n",
        "plt.grid(True)\n",
        "plt.show()"
      ],
      "metadata": {
        "id": "5OwpyYn_ozZq"
      },
      "execution_count": null,
      "outputs": []
    },
    {
      "cell_type": "markdown",
      "source": [
        "## ***7.3 Bi-Plot***"
      ],
      "metadata": {
        "id": "DV3l6OBXo1Z-"
      }
    },
    {
      "cell_type": "markdown",
      "source": [
        "A biplot combines a scatter plot of the data (in reduced dimensions) with vectors showing the contributions of the original features to the principal components."
      ],
      "metadata": {
        "id": "UHXaNTSzo-4V"
      }
    },
    {
      "cell_type": "code",
      "source": [
        "def biplot(pca, components, features, target=None):\n",
        "    \"\"\"\n",
        "    Generates a biplot for PCA.\n",
        "    - pca: Trained PCA object\n",
        "    - components: Transformed data (X_pca)\n",
        "    - features: Original feature names\n",
        "    - target: Target variable for coloring (optional)\n",
        "    \"\"\"\n",
        "    plt.figure(figsize=(10, 7))\n",
        "\n",
        "    # Scatter plot\n",
        "    if target is not None:\n",
        "        plt.scatter(components[:, 0], components[:, 1], alpha=0.7, c=target, cmap='viridis')\n",
        "        plt.colorbar(label='Target Variable')\n",
        "    else:\n",
        "        plt.scatter(components[:, 0], components[:, 1], alpha=0.7)\n",
        "\n",
        "    plt.xlabel('Principal Component 1')\n",
        "    plt.ylabel('Principal Component 2')\n",
        "    plt.title('Biplot')\n",
        "\n",
        "    # Scale the vectors for better visualization\n",
        "    vectors = pca.components_.T * np.sqrt(pca.explained_variance_)\n",
        "    for i, feature in enumerate(features):\n",
        "        plt.arrow(0, 0, vectors[i, 0], vectors[i, 1], color='r', alpha=0.5, head_width=0.02)\n",
        "        plt.text(vectors[i, 0] * 1.2, vectors[i, 1] * 1.2, feature, color='g', ha='center', va='center')\n",
        "\n",
        "    plt.grid(True)\n",
        "    plt.show()\n",
        "\n",
        "# Original feature names\n",
        "feature_names = X_train.columns\n",
        "\n",
        "# Call the biplot function\n",
        "biplot(pca, X_pca, feature_names, target=y_train)"
      ],
      "metadata": {
        "id": "Go8fQ5Bao6dj"
      },
      "execution_count": null,
      "outputs": []
    },
    {
      "cell_type": "markdown",
      "source": [
        "# **Interpretation of Results**\n",
        "\n",
        "1. **Explained Variance**:\n",
        "   - The **Scree Plot** shows the explained variance ratio for each principal component.\n",
        "   - The cumulative explained variance helps decide how many components to retain. For example, retaining the first 2-3 components might explain most of the variance in the data.\n",
        "\n",
        "2. **Scatter Plot**:\n",
        "   - The scatter plot of the first two principal components visualizes the data in the reduced dimension.\n",
        "   - Points closer together in the plot indicate similar patterns or relationships in the original data.\n",
        "\n",
        "3. **Biplot**:\n",
        "   - The biplot shows how the original features contribute to the first two principal components.\n",
        "   - The length and direction of the red arrows indicate the importance and contribution of each feature to the principal components.\n",
        "   - For example, if `mileage` has a long arrow pointing in the direction of the first principal component, it means `mileage` is highly correlated with that component.\n",
        "\n",
        "With these visualizations, we can better understand the relationships between features, reduce dimensionality effectively, and retain the most important information in the data.\n",
        "\n",
        "---"
      ],
      "metadata": {
        "id": "Y6NTLSSupOub"
      }
    },
    {
      "cell_type": "code",
      "source": [],
      "metadata": {
        "id": "ITdqJRaHpPUX"
      },
      "execution_count": null,
      "outputs": []
    }
  ]
}